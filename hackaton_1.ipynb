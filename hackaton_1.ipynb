{
 "cells": [
  {
   "cell_type": "code",
   "execution_count": 28,
   "metadata": {},
   "outputs": [],
   "source": [
    "import numpy as np\n",
    "import pandas as pd\n",
    "from glob import glob\n",
    "import matplotlib.pyplot as plt"
   ]
  },
  {
   "cell_type": "code",
   "execution_count": 53,
   "metadata": {},
   "outputs": [
    {
     "output_type": "stream",
     "name": "stdout",
     "text": [
      "list files\n",
      "['./data/2020may.xlsx', './data/2017.xlsx', './data/2020abr.xlsx', './data/2020ene.xlsx', './data/2020mar.xlsx', './data/2020jul.xlsx', './data/2013.xlsx', './data/2020jun.xlsx', './data/2019.xlsx', './data/2020ago.xlsx', './data/2015.xlsx', './data/2014.xlsx', './data/2018.xlsx']\n",
      "years files\n",
      "[PosixPath('2017.xlsx'), PosixPath('2013.xlsx'), PosixPath('2019.xlsx'), PosixPath('2015.xlsx'), PosixPath('2014.xlsx'), PosixPath('2018.xlsx'), PosixPath('2020ago.xlsx')]\n",
      "Loading data\n",
      "Loading data finished\n",
      "Cleanning data\n",
      "Cleaning data finsihed\n"
     ]
    }
   ],
   "source": [
    "from utils import downloadData\n",
    "from utils import dataProc\n",
    "#download = downloadData.downloadData()\n",
    "#download.getData()\n",
    "data = dataProc.dataProc()\n",
    "df = data.loadData()\n",
    "\n",
    "df_dict = data.cleanData(df)"
   ]
  },
  {
   "cell_type": "code",
   "execution_count": 54,
   "metadata": {},
   "outputs": [],
   "source": [
    "#b = cleanData.cleanData()\n",
    "#df_dict = b.cleanData()"
   ]
  },
  {
   "cell_type": "code",
   "execution_count": 55,
   "metadata": {},
   "outputs": [
    {
     "output_type": "execute_result",
     "data": {
      "text/plain": [
       "dict_keys(['2017', '2013', '2019', '2015', '2014', '2018', '2020'])"
      ]
     },
     "metadata": {},
     "execution_count": 55
    }
   ],
   "source": [
    "df_dict.keys()"
   ]
  },
  {
   "cell_type": "code",
   "execution_count": 57,
   "metadata": {},
   "outputs": [
    {
     "output_type": "execute_result",
     "data": {
      "text/plain": [
       "0 departamento       municipio                       operadora  \\\n",
       "1    antioquia     PUERTO NARE                  ecopetrol s.a.   \n",
       "2    antioquia     PUERTO NARE  mansarovar energy colombia ltd   \n",
       "3    antioquia     PUERTO NARE  mansarovar energy colombia ltd   \n",
       "4    antioquia  PUERTO TRIUNFO                  ecopetrol s.a.   \n",
       "5    antioquia           YONDO                  ecopetrol s.a.   \n",
       "\n",
       "0                     contrato              campo    enero  febrero    marzo  \\\n",
       "1  operacion-directa ecopetrol  area teca-cocorna  1230.97  1108.93  1026.16   \n",
       "2              nare asociacion               nare  271.742  257.036  252.903   \n",
       "3              nare asociacion         underriver  935.677  796.929  880.226   \n",
       "4  operacion-directa ecopetrol  area teca-cocorna      393      386  361.613   \n",
       "5                       casabe             casabe    12745  12535.2  12756.4   \n",
       "\n",
       "0    abril     mayo    junio    julio   agosto septiembre  octubre noviembre  \\\n",
       "1  1035.77  1046.87  1122.08  1133.03  1163.72    1130.25  1077.69   1156.24   \n",
       "2    232.9  261.774  216.059  193.717  161.835    231.971  244.219   222.163   \n",
       "3  899.867  993.742  801.946  765.493  814.503    887.706  845.619   720.345   \n",
       "4  365.433  395.613  381.826   369.09  342.075    279.994   263.75   281.705   \n",
       "5  12720.3  12491.9  13126.9  12376.6  12083.6    11965.4  11750.8   11931.9   \n",
       "\n",
       "0 diciembre  \n",
       "1   1099.28  \n",
       "2   208.825  \n",
       "3   833.261  \n",
       "4   277.985  \n",
       "5   11633.8  "
      ],
      "text/html": "<div>\n<style scoped>\n    .dataframe tbody tr th:only-of-type {\n        vertical-align: middle;\n    }\n\n    .dataframe tbody tr th {\n        vertical-align: top;\n    }\n\n    .dataframe thead th {\n        text-align: right;\n    }\n</style>\n<table border=\"1\" class=\"dataframe\">\n  <thead>\n    <tr style=\"text-align: right;\">\n      <th></th>\n      <th>departamento</th>\n      <th>municipio</th>\n      <th>operadora</th>\n      <th>contrato</th>\n      <th>campo</th>\n      <th>enero</th>\n      <th>febrero</th>\n      <th>marzo</th>\n      <th>abril</th>\n      <th>mayo</th>\n      <th>junio</th>\n      <th>julio</th>\n      <th>agosto</th>\n      <th>septiembre</th>\n      <th>octubre</th>\n      <th>noviembre</th>\n      <th>diciembre</th>\n    </tr>\n  </thead>\n  <tbody>\n    <tr>\n      <th>1</th>\n      <td>antioquia</td>\n      <td>PUERTO NARE</td>\n      <td>ecopetrol s.a.</td>\n      <td>operacion-directa ecopetrol</td>\n      <td>area teca-cocorna</td>\n      <td>1230.97</td>\n      <td>1108.93</td>\n      <td>1026.16</td>\n      <td>1035.77</td>\n      <td>1046.87</td>\n      <td>1122.08</td>\n      <td>1133.03</td>\n      <td>1163.72</td>\n      <td>1130.25</td>\n      <td>1077.69</td>\n      <td>1156.24</td>\n      <td>1099.28</td>\n    </tr>\n    <tr>\n      <th>2</th>\n      <td>antioquia</td>\n      <td>PUERTO NARE</td>\n      <td>mansarovar energy colombia ltd</td>\n      <td>nare asociacion</td>\n      <td>nare</td>\n      <td>271.742</td>\n      <td>257.036</td>\n      <td>252.903</td>\n      <td>232.9</td>\n      <td>261.774</td>\n      <td>216.059</td>\n      <td>193.717</td>\n      <td>161.835</td>\n      <td>231.971</td>\n      <td>244.219</td>\n      <td>222.163</td>\n      <td>208.825</td>\n    </tr>\n    <tr>\n      <th>3</th>\n      <td>antioquia</td>\n      <td>PUERTO NARE</td>\n      <td>mansarovar energy colombia ltd</td>\n      <td>nare asociacion</td>\n      <td>underriver</td>\n      <td>935.677</td>\n      <td>796.929</td>\n      <td>880.226</td>\n      <td>899.867</td>\n      <td>993.742</td>\n      <td>801.946</td>\n      <td>765.493</td>\n      <td>814.503</td>\n      <td>887.706</td>\n      <td>845.619</td>\n      <td>720.345</td>\n      <td>833.261</td>\n    </tr>\n    <tr>\n      <th>4</th>\n      <td>antioquia</td>\n      <td>PUERTO TRIUNFO</td>\n      <td>ecopetrol s.a.</td>\n      <td>operacion-directa ecopetrol</td>\n      <td>area teca-cocorna</td>\n      <td>393</td>\n      <td>386</td>\n      <td>361.613</td>\n      <td>365.433</td>\n      <td>395.613</td>\n      <td>381.826</td>\n      <td>369.09</td>\n      <td>342.075</td>\n      <td>279.994</td>\n      <td>263.75</td>\n      <td>281.705</td>\n      <td>277.985</td>\n    </tr>\n    <tr>\n      <th>5</th>\n      <td>antioquia</td>\n      <td>YONDO</td>\n      <td>ecopetrol s.a.</td>\n      <td>casabe</td>\n      <td>casabe</td>\n      <td>12745</td>\n      <td>12535.2</td>\n      <td>12756.4</td>\n      <td>12720.3</td>\n      <td>12491.9</td>\n      <td>13126.9</td>\n      <td>12376.6</td>\n      <td>12083.6</td>\n      <td>11965.4</td>\n      <td>11750.8</td>\n      <td>11931.9</td>\n      <td>11633.8</td>\n    </tr>\n  </tbody>\n</table>\n</div>"
     },
     "metadata": {},
     "execution_count": 57
    }
   ],
   "source": [
    "df_dict['2017'].head()"
   ]
  },
  {
   "cell_type": "code",
   "execution_count": 58,
   "metadata": {},
   "outputs": [],
   "source": [
    "to_drop = ['departamento', 'municipio',\n",
    "                   'operadora', 'contrato', 'cuenca','campo']\n",
    "for year in df_dict.keys():\n",
    "    for col in to_drop:\n",
    "        if col in df_dict[year]:\n",
    "            df_dict[year] = df_dict[year].drop(labels=[col], axis=1)\n",
    "\n",
    "    df_dict[year] = df_dict[year].sum(axis =0)\n",
    "            #df_dict[year] = pd.DataFrame(df_dict[year], columns = ['Month', 'Production'])\n",
    "            #print(df_dict[year])"
   ]
  },
  {
   "cell_type": "code",
   "execution_count": 91,
   "metadata": {},
   "outputs": [
    {
     "output_type": "execute_result",
     "data": {
      "text/plain": [
       "<AxesSubplot:xlabel='month'>"
      ]
     },
     "metadata": {},
     "execution_count": 91
    },
    {
     "output_type": "display_data",
     "data": {
      "text/plain": "<Figure size 432x288 with 1 Axes>",
      "image/svg+xml": "<?xml version=\"1.0\" encoding=\"utf-8\" standalone=\"no\"?>\n<!DOCTYPE svg PUBLIC \"-//W3C//DTD SVG 1.1//EN\"\n  \"http://www.w3.org/Graphics/SVG/1.1/DTD/svg11.dtd\">\n<!-- Created with matplotlib (https://matplotlib.org/) -->\n<svg height=\"319.807187pt\" version=\"1.1\" viewBox=\"0 0 378.465625 319.807187\" width=\"378.465625pt\" xmlns=\"http://www.w3.org/2000/svg\" xmlns:xlink=\"http://www.w3.org/1999/xlink\">\n <metadata>\n  <rdf:RDF xmlns:cc=\"http://creativecommons.org/ns#\" xmlns:dc=\"http://purl.org/dc/elements/1.1/\" xmlns:rdf=\"http://www.w3.org/1999/02/22-rdf-syntax-ns#\">\n   <cc:Work>\n    <dc:type rdf:resource=\"http://purl.org/dc/dcmitype/StillImage\"/>\n    <dc:date>2020-11-06T00:27:22.505004</dc:date>\n    <dc:format>image/svg+xml</dc:format>\n    <dc:creator>\n     <cc:Agent>\n      <dc:title>Matplotlib v3.3.2, https://matplotlib.org/</dc:title>\n     </cc:Agent>\n    </dc:creator>\n   </cc:Work>\n  </rdf:RDF>\n </metadata>\n <defs>\n  <style type=\"text/css\">*{stroke-linecap:butt;stroke-linejoin:round;}</style>\n </defs>\n <g id=\"figure_1\">\n  <g id=\"patch_1\">\n   <path d=\"M 0 319.807187 \nL 378.465625 319.807187 \nL 378.465625 0 \nL 0 0 \nz\n\" style=\"fill:none;\"/>\n  </g>\n  <g id=\"axes_1\">\n   <g id=\"patch_2\">\n    <path d=\"M 36.465625 235.238438 \nL 371.265625 235.238438 \nL 371.265625 17.798437 \nL 36.465625 17.798437 \nz\n\" style=\"fill:#ffffff;\"/>\n   </g>\n   <g id=\"patch_3\">\n    <path clip-path=\"url(#p0c9dcc69d1)\" d=\"M 43.440625 235.238438 \nL 57.390625 235.238438 \nL 57.390625 31.79013 \nL 43.440625 31.79013 \nz\n\" style=\"fill:#1f77b4;\"/>\n   </g>\n   <g id=\"patch_4\">\n    <path clip-path=\"url(#p0c9dcc69d1)\" d=\"M 71.340625 235.238438 \nL 85.290625 235.238438 \nL 85.290625 35.352199 \nL 71.340625 35.352199 \nz\n\" style=\"fill:#1f77b4;\"/>\n   </g>\n   <g id=\"patch_5\">\n    <path clip-path=\"url(#p0c9dcc69d1)\" d=\"M 99.240625 235.238438 \nL 113.190625 235.238438 \nL 113.190625 32.302779 \nL 99.240625 32.302779 \nz\n\" style=\"fill:#1f77b4;\"/>\n   </g>\n   <g id=\"patch_6\">\n    <path clip-path=\"url(#p0c9dcc69d1)\" d=\"M 127.140625 235.238438 \nL 141.090625 235.238438 \nL 141.090625 32.560476 \nL 127.140625 32.560476 \nz\n\" style=\"fill:#1f77b4;\"/>\n   </g>\n   <g id=\"patch_7\">\n    <path clip-path=\"url(#p0c9dcc69d1)\" d=\"M 155.040625 235.238438 \nL 168.990625 235.238438 \nL 168.990625 31.122271 \nL 155.040625 31.122271 \nz\n\" style=\"fill:#1f77b4;\"/>\n   </g>\n   <g id=\"patch_8\">\n    <path clip-path=\"url(#p0c9dcc69d1)\" d=\"M 182.940625 235.238438 \nL 196.890625 235.238438 \nL 196.890625 39.206017 \nL 182.940625 39.206017 \nz\n\" style=\"fill:#1f77b4;\"/>\n   </g>\n   <g id=\"patch_9\">\n    <path clip-path=\"url(#p0c9dcc69d1)\" d=\"M 210.840625 235.238438 \nL 224.790625 235.238438 \nL 224.790625 30.291519 \nL 210.840625 30.291519 \nz\n\" style=\"fill:#1f77b4;\"/>\n   </g>\n   <g id=\"patch_10\">\n    <path clip-path=\"url(#p0c9dcc69d1)\" d=\"M 238.740625 235.238438 \nL 252.690625 235.238438 \nL 252.690625 28.152723 \nL 238.740625 28.152723 \nz\n\" style=\"fill:#1f77b4;\"/>\n   </g>\n   <g id=\"patch_11\">\n    <path clip-path=\"url(#p0c9dcc69d1)\" d=\"M 266.640625 235.238438 \nL 280.590625 235.238438 \nL 280.590625 34.886224 \nL 266.640625 34.886224 \nz\n\" style=\"fill:#1f77b4;\"/>\n   </g>\n   <g id=\"patch_12\">\n    <path clip-path=\"url(#p0c9dcc69d1)\" d=\"M 294.540625 235.238438 \nL 308.490625 235.238438 \nL 308.490625 37.594634 \nL 294.540625 37.594634 \nz\n\" style=\"fill:#1f77b4;\"/>\n   </g>\n   <g id=\"patch_13\">\n    <path clip-path=\"url(#p0c9dcc69d1)\" d=\"M 322.440625 235.238438 \nL 336.390625 235.238438 \nL 336.390625 32.023858 \nL 322.440625 32.023858 \nz\n\" style=\"fill:#1f77b4;\"/>\n   </g>\n   <g id=\"patch_14\">\n    <path clip-path=\"url(#p0c9dcc69d1)\" d=\"M 350.340625 235.238438 \nL 364.290625 235.238438 \nL 364.290625 33.130344 \nL 350.340625 33.130344 \nz\n\" style=\"fill:#1f77b4;\"/>\n   </g>\n   <g id=\"matplotlib.axis_1\">\n    <g id=\"xtick_1\">\n     <g id=\"line2d_1\">\n      <defs>\n       <path d=\"M 0 0 \nL 0 3.5 \n\" id=\"m3e3c641ae6\" style=\"stroke:#000000;stroke-width:0.8;\"/>\n      </defs>\n      <g>\n       <use style=\"stroke:#000000;stroke-width:0.8;\" x=\"50.415625\" xlink:href=\"#m3e3c641ae6\" y=\"235.238438\"/>\n      </g>\n     </g>\n     <g id=\"text_1\">\n      <!-- enero -->\n      <g transform=\"translate(53.175 270.886875)rotate(-90)scale(0.1 -0.1)\">\n       <defs>\n        <path d=\"M 56.203125 29.59375 \nL 56.203125 25.203125 \nL 14.890625 25.203125 \nQ 15.484375 15.921875 20.484375 11.0625 \nQ 25.484375 6.203125 34.421875 6.203125 \nQ 39.59375 6.203125 44.453125 7.46875 \nQ 49.3125 8.734375 54.109375 11.28125 \nL 54.109375 2.78125 \nQ 49.265625 0.734375 44.1875 -0.34375 \nQ 39.109375 -1.421875 33.890625 -1.421875 \nQ 20.796875 -1.421875 13.15625 6.1875 \nQ 5.515625 13.8125 5.515625 26.8125 \nQ 5.515625 40.234375 12.765625 48.109375 \nQ 20.015625 56 32.328125 56 \nQ 43.359375 56 49.78125 48.890625 \nQ 56.203125 41.796875 56.203125 29.59375 \nz\nM 47.21875 32.234375 \nQ 47.125 39.59375 43.09375 43.984375 \nQ 39.0625 48.390625 32.421875 48.390625 \nQ 24.90625 48.390625 20.390625 44.140625 \nQ 15.875 39.890625 15.1875 32.171875 \nz\n\" id=\"DejaVuSans-101\"/>\n        <path d=\"M 54.890625 33.015625 \nL 54.890625 0 \nL 45.90625 0 \nL 45.90625 32.71875 \nQ 45.90625 40.484375 42.875 44.328125 \nQ 39.84375 48.1875 33.796875 48.1875 \nQ 26.515625 48.1875 22.3125 43.546875 \nQ 18.109375 38.921875 18.109375 30.90625 \nL 18.109375 0 \nL 9.078125 0 \nL 9.078125 54.6875 \nL 18.109375 54.6875 \nL 18.109375 46.1875 \nQ 21.34375 51.125 25.703125 53.5625 \nQ 30.078125 56 35.796875 56 \nQ 45.21875 56 50.046875 50.171875 \nQ 54.890625 44.34375 54.890625 33.015625 \nz\n\" id=\"DejaVuSans-110\"/>\n        <path d=\"M 41.109375 46.296875 \nQ 39.59375 47.171875 37.8125 47.578125 \nQ 36.03125 48 33.890625 48 \nQ 26.265625 48 22.1875 43.046875 \nQ 18.109375 38.09375 18.109375 28.8125 \nL 18.109375 0 \nL 9.078125 0 \nL 9.078125 54.6875 \nL 18.109375 54.6875 \nL 18.109375 46.1875 \nQ 20.953125 51.171875 25.484375 53.578125 \nQ 30.03125 56 36.53125 56 \nQ 37.453125 56 38.578125 55.875 \nQ 39.703125 55.765625 41.0625 55.515625 \nz\n\" id=\"DejaVuSans-114\"/>\n        <path d=\"M 30.609375 48.390625 \nQ 23.390625 48.390625 19.1875 42.75 \nQ 14.984375 37.109375 14.984375 27.296875 \nQ 14.984375 17.484375 19.15625 11.84375 \nQ 23.34375 6.203125 30.609375 6.203125 \nQ 37.796875 6.203125 41.984375 11.859375 \nQ 46.1875 17.53125 46.1875 27.296875 \nQ 46.1875 37.015625 41.984375 42.703125 \nQ 37.796875 48.390625 30.609375 48.390625 \nz\nM 30.609375 56 \nQ 42.328125 56 49.015625 48.375 \nQ 55.71875 40.765625 55.71875 27.296875 \nQ 55.71875 13.875 49.015625 6.21875 \nQ 42.328125 -1.421875 30.609375 -1.421875 \nQ 18.84375 -1.421875 12.171875 6.21875 \nQ 5.515625 13.875 5.515625 27.296875 \nQ 5.515625 40.765625 12.171875 48.375 \nQ 18.84375 56 30.609375 56 \nz\n\" id=\"DejaVuSans-111\"/>\n       </defs>\n       <use xlink:href=\"#DejaVuSans-101\"/>\n       <use x=\"61.523438\" xlink:href=\"#DejaVuSans-110\"/>\n       <use x=\"124.902344\" xlink:href=\"#DejaVuSans-101\"/>\n       <use x=\"186.425781\" xlink:href=\"#DejaVuSans-114\"/>\n       <use x=\"225.289062\" xlink:href=\"#DejaVuSans-111\"/>\n      </g>\n     </g>\n    </g>\n    <g id=\"xtick_2\">\n     <g id=\"line2d_2\">\n      <g>\n       <use style=\"stroke:#000000;stroke-width:0.8;\" x=\"78.315625\" xlink:href=\"#m3e3c641ae6\" y=\"235.238438\"/>\n      </g>\n     </g>\n     <g id=\"text_2\">\n      <!-- febrero -->\n      <g transform=\"translate(81.075 278.304062)rotate(-90)scale(0.1 -0.1)\">\n       <defs>\n        <path d=\"M 37.109375 75.984375 \nL 37.109375 68.5 \nL 28.515625 68.5 \nQ 23.6875 68.5 21.796875 66.546875 \nQ 19.921875 64.59375 19.921875 59.515625 \nL 19.921875 54.6875 \nL 34.71875 54.6875 \nL 34.71875 47.703125 \nL 19.921875 47.703125 \nL 19.921875 0 \nL 10.890625 0 \nL 10.890625 47.703125 \nL 2.296875 47.703125 \nL 2.296875 54.6875 \nL 10.890625 54.6875 \nL 10.890625 58.5 \nQ 10.890625 67.625 15.140625 71.796875 \nQ 19.390625 75.984375 28.609375 75.984375 \nz\n\" id=\"DejaVuSans-102\"/>\n        <path d=\"M 48.6875 27.296875 \nQ 48.6875 37.203125 44.609375 42.84375 \nQ 40.53125 48.484375 33.40625 48.484375 \nQ 26.265625 48.484375 22.1875 42.84375 \nQ 18.109375 37.203125 18.109375 27.296875 \nQ 18.109375 17.390625 22.1875 11.75 \nQ 26.265625 6.109375 33.40625 6.109375 \nQ 40.53125 6.109375 44.609375 11.75 \nQ 48.6875 17.390625 48.6875 27.296875 \nz\nM 18.109375 46.390625 \nQ 20.953125 51.265625 25.265625 53.625 \nQ 29.59375 56 35.59375 56 \nQ 45.5625 56 51.78125 48.09375 \nQ 58.015625 40.1875 58.015625 27.296875 \nQ 58.015625 14.40625 51.78125 6.484375 \nQ 45.5625 -1.421875 35.59375 -1.421875 \nQ 29.59375 -1.421875 25.265625 0.953125 \nQ 20.953125 3.328125 18.109375 8.203125 \nL 18.109375 0 \nL 9.078125 0 \nL 9.078125 75.984375 \nL 18.109375 75.984375 \nz\n\" id=\"DejaVuSans-98\"/>\n       </defs>\n       <use xlink:href=\"#DejaVuSans-102\"/>\n       <use x=\"35.205078\" xlink:href=\"#DejaVuSans-101\"/>\n       <use x=\"96.728516\" xlink:href=\"#DejaVuSans-98\"/>\n       <use x=\"160.205078\" xlink:href=\"#DejaVuSans-114\"/>\n       <use x=\"199.068359\" xlink:href=\"#DejaVuSans-101\"/>\n       <use x=\"260.591797\" xlink:href=\"#DejaVuSans-114\"/>\n       <use x=\"299.455078\" xlink:href=\"#DejaVuSans-111\"/>\n      </g>\n     </g>\n    </g>\n    <g id=\"xtick_3\">\n     <g id=\"line2d_3\">\n      <g>\n       <use style=\"stroke:#000000;stroke-width:0.8;\" x=\"106.215625\" xlink:href=\"#m3e3c641ae6\" y=\"235.238438\"/>\n      </g>\n     </g>\n     <g id=\"text_3\">\n      <!-- marzo -->\n      <g transform=\"translate(108.975 273.585312)rotate(-90)scale(0.1 -0.1)\">\n       <defs>\n        <path d=\"M 52 44.1875 \nQ 55.375 50.25 60.0625 53.125 \nQ 64.75 56 71.09375 56 \nQ 79.640625 56 84.28125 50.015625 \nQ 88.921875 44.046875 88.921875 33.015625 \nL 88.921875 0 \nL 79.890625 0 \nL 79.890625 32.71875 \nQ 79.890625 40.578125 77.09375 44.375 \nQ 74.3125 48.1875 68.609375 48.1875 \nQ 61.625 48.1875 57.5625 43.546875 \nQ 53.515625 38.921875 53.515625 30.90625 \nL 53.515625 0 \nL 44.484375 0 \nL 44.484375 32.71875 \nQ 44.484375 40.625 41.703125 44.40625 \nQ 38.921875 48.1875 33.109375 48.1875 \nQ 26.21875 48.1875 22.15625 43.53125 \nQ 18.109375 38.875 18.109375 30.90625 \nL 18.109375 0 \nL 9.078125 0 \nL 9.078125 54.6875 \nL 18.109375 54.6875 \nL 18.109375 46.1875 \nQ 21.1875 51.21875 25.484375 53.609375 \nQ 29.78125 56 35.6875 56 \nQ 41.65625 56 45.828125 52.96875 \nQ 50 49.953125 52 44.1875 \nz\n\" id=\"DejaVuSans-109\"/>\n        <path d=\"M 34.28125 27.484375 \nQ 23.390625 27.484375 19.1875 25 \nQ 14.984375 22.515625 14.984375 16.5 \nQ 14.984375 11.71875 18.140625 8.90625 \nQ 21.296875 6.109375 26.703125 6.109375 \nQ 34.1875 6.109375 38.703125 11.40625 \nQ 43.21875 16.703125 43.21875 25.484375 \nL 43.21875 27.484375 \nz\nM 52.203125 31.203125 \nL 52.203125 0 \nL 43.21875 0 \nL 43.21875 8.296875 \nQ 40.140625 3.328125 35.546875 0.953125 \nQ 30.953125 -1.421875 24.3125 -1.421875 \nQ 15.921875 -1.421875 10.953125 3.296875 \nQ 6 8.015625 6 15.921875 \nQ 6 25.140625 12.171875 29.828125 \nQ 18.359375 34.515625 30.609375 34.515625 \nL 43.21875 34.515625 \nL 43.21875 35.40625 \nQ 43.21875 41.609375 39.140625 45 \nQ 35.0625 48.390625 27.6875 48.390625 \nQ 23 48.390625 18.546875 47.265625 \nQ 14.109375 46.140625 10.015625 43.890625 \nL 10.015625 52.203125 \nQ 14.9375 54.109375 19.578125 55.046875 \nQ 24.21875 56 28.609375 56 \nQ 40.484375 56 46.34375 49.84375 \nQ 52.203125 43.703125 52.203125 31.203125 \nz\n\" id=\"DejaVuSans-97\"/>\n        <path d=\"M 5.515625 54.6875 \nL 48.1875 54.6875 \nL 48.1875 46.484375 \nL 14.40625 7.171875 \nL 48.1875 7.171875 \nL 48.1875 0 \nL 4.296875 0 \nL 4.296875 8.203125 \nL 38.09375 47.515625 \nL 5.515625 47.515625 \nz\n\" id=\"DejaVuSans-122\"/>\n       </defs>\n       <use xlink:href=\"#DejaVuSans-109\"/>\n       <use x=\"97.412109\" xlink:href=\"#DejaVuSans-97\"/>\n       <use x=\"158.691406\" xlink:href=\"#DejaVuSans-114\"/>\n       <use x=\"199.804688\" xlink:href=\"#DejaVuSans-122\"/>\n       <use x=\"252.294922\" xlink:href=\"#DejaVuSans-111\"/>\n      </g>\n     </g>\n    </g>\n    <g id=\"xtick_4\">\n     <g id=\"line2d_4\">\n      <g>\n       <use style=\"stroke:#000000;stroke-width:0.8;\" x=\"134.115625\" xlink:href=\"#m3e3c641ae6\" y=\"235.238438\"/>\n      </g>\n     </g>\n     <g id=\"text_4\">\n      <!-- abril -->\n      <g transform=\"translate(136.875 264.382187)rotate(-90)scale(0.1 -0.1)\">\n       <defs>\n        <path d=\"M 9.421875 54.6875 \nL 18.40625 54.6875 \nL 18.40625 0 \nL 9.421875 0 \nz\nM 9.421875 75.984375 \nL 18.40625 75.984375 \nL 18.40625 64.59375 \nL 9.421875 64.59375 \nz\n\" id=\"DejaVuSans-105\"/>\n        <path d=\"M 9.421875 75.984375 \nL 18.40625 75.984375 \nL 18.40625 0 \nL 9.421875 0 \nz\n\" id=\"DejaVuSans-108\"/>\n       </defs>\n       <use xlink:href=\"#DejaVuSans-97\"/>\n       <use x=\"61.279297\" xlink:href=\"#DejaVuSans-98\"/>\n       <use x=\"124.755859\" xlink:href=\"#DejaVuSans-114\"/>\n       <use x=\"165.869141\" xlink:href=\"#DejaVuSans-105\"/>\n       <use x=\"193.652344\" xlink:href=\"#DejaVuSans-108\"/>\n      </g>\n     </g>\n    </g>\n    <g id=\"xtick_5\">\n     <g id=\"line2d_5\">\n      <g>\n       <use style=\"stroke:#000000;stroke-width:0.8;\" x=\"162.015625\" xlink:href=\"#m3e3c641ae6\" y=\"235.238438\"/>\n      </g>\n     </g>\n     <g id=\"text_5\">\n      <!-- mayo -->\n      <g transform=\"translate(164.775 270.144688)rotate(-90)scale(0.1 -0.1)\">\n       <defs>\n        <path d=\"M 32.171875 -5.078125 \nQ 28.375 -14.84375 24.75 -17.8125 \nQ 21.140625 -20.796875 15.09375 -20.796875 \nL 7.90625 -20.796875 \nL 7.90625 -13.28125 \nL 13.1875 -13.28125 \nQ 16.890625 -13.28125 18.9375 -11.515625 \nQ 21 -9.765625 23.484375 -3.21875 \nL 25.09375 0.875 \nL 2.984375 54.6875 \nL 12.5 54.6875 \nL 29.59375 11.921875 \nL 46.6875 54.6875 \nL 56.203125 54.6875 \nz\n\" id=\"DejaVuSans-121\"/>\n       </defs>\n       <use xlink:href=\"#DejaVuSans-109\"/>\n       <use x=\"97.412109\" xlink:href=\"#DejaVuSans-97\"/>\n       <use x=\"158.691406\" xlink:href=\"#DejaVuSans-121\"/>\n       <use x=\"217.871094\" xlink:href=\"#DejaVuSans-111\"/>\n      </g>\n     </g>\n    </g>\n    <g id=\"xtick_6\">\n     <g id=\"line2d_6\">\n      <g>\n       <use style=\"stroke:#000000;stroke-width:0.8;\" x=\"189.915625\" xlink:href=\"#m3e3c641ae6\" y=\"235.238438\"/>\n      </g>\n     </g>\n     <g id=\"text_6\">\n      <!-- junio -->\n      <g transform=\"translate(192.675 266.588437)rotate(-90)scale(0.1 -0.1)\">\n       <defs>\n        <path d=\"M 9.421875 54.6875 \nL 18.40625 54.6875 \nL 18.40625 -0.984375 \nQ 18.40625 -11.421875 14.421875 -16.109375 \nQ 10.453125 -20.796875 1.609375 -20.796875 \nL -1.8125 -20.796875 \nL -1.8125 -13.1875 \nL 0.59375 -13.1875 \nQ 5.71875 -13.1875 7.5625 -10.8125 \nQ 9.421875 -8.453125 9.421875 -0.984375 \nz\nM 9.421875 75.984375 \nL 18.40625 75.984375 \nL 18.40625 64.59375 \nL 9.421875 64.59375 \nz\n\" id=\"DejaVuSans-106\"/>\n        <path d=\"M 8.5 21.578125 \nL 8.5 54.6875 \nL 17.484375 54.6875 \nL 17.484375 21.921875 \nQ 17.484375 14.15625 20.5 10.265625 \nQ 23.53125 6.390625 29.59375 6.390625 \nQ 36.859375 6.390625 41.078125 11.03125 \nQ 45.3125 15.671875 45.3125 23.6875 \nL 45.3125 54.6875 \nL 54.296875 54.6875 \nL 54.296875 0 \nL 45.3125 0 \nL 45.3125 8.40625 \nQ 42.046875 3.421875 37.71875 1 \nQ 33.40625 -1.421875 27.6875 -1.421875 \nQ 18.265625 -1.421875 13.375 4.4375 \nQ 8.5 10.296875 8.5 21.578125 \nz\nM 31.109375 56 \nz\n\" id=\"DejaVuSans-117\"/>\n       </defs>\n       <use xlink:href=\"#DejaVuSans-106\"/>\n       <use x=\"27.783203\" xlink:href=\"#DejaVuSans-117\"/>\n       <use x=\"91.162109\" xlink:href=\"#DejaVuSans-110\"/>\n       <use x=\"154.541016\" xlink:href=\"#DejaVuSans-105\"/>\n       <use x=\"182.324219\" xlink:href=\"#DejaVuSans-111\"/>\n      </g>\n     </g>\n    </g>\n    <g id=\"xtick_7\">\n     <g id=\"line2d_7\">\n      <g>\n       <use style=\"stroke:#000000;stroke-width:0.8;\" x=\"217.815625\" xlink:href=\"#m3e3c641ae6\" y=\"235.238438\"/>\n      </g>\n     </g>\n     <g id=\"text_7\">\n      <!-- julio -->\n      <g transform=\"translate(220.575 263.029063)rotate(-90)scale(0.1 -0.1)\">\n       <use xlink:href=\"#DejaVuSans-106\"/>\n       <use x=\"27.783203\" xlink:href=\"#DejaVuSans-117\"/>\n       <use x=\"91.162109\" xlink:href=\"#DejaVuSans-108\"/>\n       <use x=\"118.945312\" xlink:href=\"#DejaVuSans-105\"/>\n       <use x=\"146.728516\" xlink:href=\"#DejaVuSans-111\"/>\n      </g>\n     </g>\n    </g>\n    <g id=\"xtick_8\">\n     <g id=\"line2d_8\">\n      <g>\n       <use style=\"stroke:#000000;stroke-width:0.8;\" x=\"245.715625\" xlink:href=\"#m3e3c641ae6\" y=\"235.238438\"/>\n      </g>\n     </g>\n     <g id=\"text_8\">\n      <!-- agosto -->\n      <g transform=\"translate(248.475 276.082188)rotate(-90)scale(0.1 -0.1)\">\n       <defs>\n        <path d=\"M 45.40625 27.984375 \nQ 45.40625 37.75 41.375 43.109375 \nQ 37.359375 48.484375 30.078125 48.484375 \nQ 22.859375 48.484375 18.828125 43.109375 \nQ 14.796875 37.75 14.796875 27.984375 \nQ 14.796875 18.265625 18.828125 12.890625 \nQ 22.859375 7.515625 30.078125 7.515625 \nQ 37.359375 7.515625 41.375 12.890625 \nQ 45.40625 18.265625 45.40625 27.984375 \nz\nM 54.390625 6.78125 \nQ 54.390625 -7.171875 48.1875 -13.984375 \nQ 42 -20.796875 29.203125 -20.796875 \nQ 24.46875 -20.796875 20.265625 -20.09375 \nQ 16.0625 -19.390625 12.109375 -17.921875 \nL 12.109375 -9.1875 \nQ 16.0625 -11.328125 19.921875 -12.34375 \nQ 23.78125 -13.375 27.78125 -13.375 \nQ 36.625 -13.375 41.015625 -8.765625 \nQ 45.40625 -4.15625 45.40625 5.171875 \nL 45.40625 9.625 \nQ 42.625 4.78125 38.28125 2.390625 \nQ 33.9375 0 27.875 0 \nQ 17.828125 0 11.671875 7.65625 \nQ 5.515625 15.328125 5.515625 27.984375 \nQ 5.515625 40.671875 11.671875 48.328125 \nQ 17.828125 56 27.875 56 \nQ 33.9375 56 38.28125 53.609375 \nQ 42.625 51.21875 45.40625 46.390625 \nL 45.40625 54.6875 \nL 54.390625 54.6875 \nz\n\" id=\"DejaVuSans-103\"/>\n        <path d=\"M 44.28125 53.078125 \nL 44.28125 44.578125 \nQ 40.484375 46.53125 36.375 47.5 \nQ 32.28125 48.484375 27.875 48.484375 \nQ 21.1875 48.484375 17.84375 46.4375 \nQ 14.5 44.390625 14.5 40.28125 \nQ 14.5 37.15625 16.890625 35.375 \nQ 19.28125 33.59375 26.515625 31.984375 \nL 29.59375 31.296875 \nQ 39.15625 29.25 43.1875 25.515625 \nQ 47.21875 21.78125 47.21875 15.09375 \nQ 47.21875 7.46875 41.1875 3.015625 \nQ 35.15625 -1.421875 24.609375 -1.421875 \nQ 20.21875 -1.421875 15.453125 -0.5625 \nQ 10.6875 0.296875 5.421875 2 \nL 5.421875 11.28125 \nQ 10.40625 8.6875 15.234375 7.390625 \nQ 20.0625 6.109375 24.8125 6.109375 \nQ 31.15625 6.109375 34.5625 8.28125 \nQ 37.984375 10.453125 37.984375 14.40625 \nQ 37.984375 18.0625 35.515625 20.015625 \nQ 33.0625 21.96875 24.703125 23.78125 \nL 21.578125 24.515625 \nQ 13.234375 26.265625 9.515625 29.90625 \nQ 5.8125 33.546875 5.8125 39.890625 \nQ 5.8125 47.609375 11.28125 51.796875 \nQ 16.75 56 26.8125 56 \nQ 31.78125 56 36.171875 55.265625 \nQ 40.578125 54.546875 44.28125 53.078125 \nz\n\" id=\"DejaVuSans-115\"/>\n        <path d=\"M 18.3125 70.21875 \nL 18.3125 54.6875 \nL 36.8125 54.6875 \nL 36.8125 47.703125 \nL 18.3125 47.703125 \nL 18.3125 18.015625 \nQ 18.3125 11.328125 20.140625 9.421875 \nQ 21.96875 7.515625 27.59375 7.515625 \nL 36.8125 7.515625 \nL 36.8125 0 \nL 27.59375 0 \nQ 17.1875 0 13.234375 3.875 \nQ 9.28125 7.765625 9.28125 18.015625 \nL 9.28125 47.703125 \nL 2.6875 47.703125 \nL 2.6875 54.6875 \nL 9.28125 54.6875 \nL 9.28125 70.21875 \nz\n\" id=\"DejaVuSans-116\"/>\n       </defs>\n       <use xlink:href=\"#DejaVuSans-97\"/>\n       <use x=\"61.279297\" xlink:href=\"#DejaVuSans-103\"/>\n       <use x=\"124.755859\" xlink:href=\"#DejaVuSans-111\"/>\n       <use x=\"185.9375\" xlink:href=\"#DejaVuSans-115\"/>\n       <use x=\"238.037109\" xlink:href=\"#DejaVuSans-116\"/>\n       <use x=\"277.246094\" xlink:href=\"#DejaVuSans-111\"/>\n      </g>\n     </g>\n    </g>\n    <g id=\"xtick_9\">\n     <g id=\"line2d_9\">\n      <g>\n       <use style=\"stroke:#000000;stroke-width:0.8;\" x=\"273.615625\" xlink:href=\"#m3e3c641ae6\" y=\"235.238438\"/>\n      </g>\n     </g>\n     <g id=\"text_9\">\n      <!-- septiembre -->\n      <g transform=\"translate(276.375 298.929062)rotate(-90)scale(0.1 -0.1)\">\n       <defs>\n        <path d=\"M 18.109375 8.203125 \nL 18.109375 -20.796875 \nL 9.078125 -20.796875 \nL 9.078125 54.6875 \nL 18.109375 54.6875 \nL 18.109375 46.390625 \nQ 20.953125 51.265625 25.265625 53.625 \nQ 29.59375 56 35.59375 56 \nQ 45.5625 56 51.78125 48.09375 \nQ 58.015625 40.1875 58.015625 27.296875 \nQ 58.015625 14.40625 51.78125 6.484375 \nQ 45.5625 -1.421875 35.59375 -1.421875 \nQ 29.59375 -1.421875 25.265625 0.953125 \nQ 20.953125 3.328125 18.109375 8.203125 \nz\nM 48.6875 27.296875 \nQ 48.6875 37.203125 44.609375 42.84375 \nQ 40.53125 48.484375 33.40625 48.484375 \nQ 26.265625 48.484375 22.1875 42.84375 \nQ 18.109375 37.203125 18.109375 27.296875 \nQ 18.109375 17.390625 22.1875 11.75 \nQ 26.265625 6.109375 33.40625 6.109375 \nQ 40.53125 6.109375 44.609375 11.75 \nQ 48.6875 17.390625 48.6875 27.296875 \nz\n\" id=\"DejaVuSans-112\"/>\n       </defs>\n       <use xlink:href=\"#DejaVuSans-115\"/>\n       <use x=\"52.099609\" xlink:href=\"#DejaVuSans-101\"/>\n       <use x=\"113.623047\" xlink:href=\"#DejaVuSans-112\"/>\n       <use x=\"177.099609\" xlink:href=\"#DejaVuSans-116\"/>\n       <use x=\"216.308594\" xlink:href=\"#DejaVuSans-105\"/>\n       <use x=\"244.091797\" xlink:href=\"#DejaVuSans-101\"/>\n       <use x=\"305.615234\" xlink:href=\"#DejaVuSans-109\"/>\n       <use x=\"403.027344\" xlink:href=\"#DejaVuSans-98\"/>\n       <use x=\"466.503906\" xlink:href=\"#DejaVuSans-114\"/>\n       <use x=\"505.367188\" xlink:href=\"#DejaVuSans-101\"/>\n      </g>\n     </g>\n    </g>\n    <g id=\"xtick_10\">\n     <g id=\"line2d_10\">\n      <g>\n       <use style=\"stroke:#000000;stroke-width:0.8;\" x=\"301.515625\" xlink:href=\"#m3e3c641ae6\" y=\"235.238438\"/>\n      </g>\n     </g>\n     <g id=\"text_10\">\n      <!-- octubre -->\n      <g transform=\"translate(304.275 280.500938)rotate(-90)scale(0.1 -0.1)\">\n       <defs>\n        <path d=\"M 48.78125 52.59375 \nL 48.78125 44.1875 \nQ 44.96875 46.296875 41.140625 47.34375 \nQ 37.3125 48.390625 33.40625 48.390625 \nQ 24.65625 48.390625 19.8125 42.84375 \nQ 14.984375 37.3125 14.984375 27.296875 \nQ 14.984375 17.28125 19.8125 11.734375 \nQ 24.65625 6.203125 33.40625 6.203125 \nQ 37.3125 6.203125 41.140625 7.25 \nQ 44.96875 8.296875 48.78125 10.40625 \nL 48.78125 2.09375 \nQ 45.015625 0.34375 40.984375 -0.53125 \nQ 36.96875 -1.421875 32.421875 -1.421875 \nQ 20.0625 -1.421875 12.78125 6.34375 \nQ 5.515625 14.109375 5.515625 27.296875 \nQ 5.515625 40.671875 12.859375 48.328125 \nQ 20.21875 56 33.015625 56 \nQ 37.15625 56 41.109375 55.140625 \nQ 45.0625 54.296875 48.78125 52.59375 \nz\n\" id=\"DejaVuSans-99\"/>\n       </defs>\n       <use xlink:href=\"#DejaVuSans-111\"/>\n       <use x=\"61.181641\" xlink:href=\"#DejaVuSans-99\"/>\n       <use x=\"116.162109\" xlink:href=\"#DejaVuSans-116\"/>\n       <use x=\"155.371094\" xlink:href=\"#DejaVuSans-117\"/>\n       <use x=\"218.75\" xlink:href=\"#DejaVuSans-98\"/>\n       <use x=\"282.226562\" xlink:href=\"#DejaVuSans-114\"/>\n       <use x=\"321.089844\" xlink:href=\"#DejaVuSans-101\"/>\n      </g>\n     </g>\n    </g>\n    <g id=\"xtick_11\">\n     <g id=\"line2d_11\">\n      <g>\n       <use style=\"stroke:#000000;stroke-width:0.8;\" x=\"329.415625\" xlink:href=\"#m3e3c641ae6\" y=\"235.238438\"/>\n      </g>\n     </g>\n     <g id=\"text_11\">\n      <!-- noviembre -->\n      <g transform=\"translate(332.175 295.672813)rotate(-90)scale(0.1 -0.1)\">\n       <defs>\n        <path d=\"M 2.984375 54.6875 \nL 12.5 54.6875 \nL 29.59375 8.796875 \nL 46.6875 54.6875 \nL 56.203125 54.6875 \nL 35.6875 0 \nL 23.484375 0 \nz\n\" id=\"DejaVuSans-118\"/>\n       </defs>\n       <use xlink:href=\"#DejaVuSans-110\"/>\n       <use x=\"63.378906\" xlink:href=\"#DejaVuSans-111\"/>\n       <use x=\"124.560547\" xlink:href=\"#DejaVuSans-118\"/>\n       <use x=\"183.740234\" xlink:href=\"#DejaVuSans-105\"/>\n       <use x=\"211.523438\" xlink:href=\"#DejaVuSans-101\"/>\n       <use x=\"273.046875\" xlink:href=\"#DejaVuSans-109\"/>\n       <use x=\"370.458984\" xlink:href=\"#DejaVuSans-98\"/>\n       <use x=\"433.935547\" xlink:href=\"#DejaVuSans-114\"/>\n       <use x=\"472.798828\" xlink:href=\"#DejaVuSans-101\"/>\n      </g>\n     </g>\n    </g>\n    <g id=\"xtick_12\">\n     <g id=\"line2d_12\">\n      <g>\n       <use style=\"stroke:#000000;stroke-width:0.8;\" x=\"357.315625\" xlink:href=\"#m3e3c641ae6\" y=\"235.238438\"/>\n      </g>\n     </g>\n     <g id=\"text_12\">\n      <!-- diciembre -->\n      <g transform=\"translate(360.075 291.922813)rotate(-90)scale(0.1 -0.1)\">\n       <defs>\n        <path d=\"M 45.40625 46.390625 \nL 45.40625 75.984375 \nL 54.390625 75.984375 \nL 54.390625 0 \nL 45.40625 0 \nL 45.40625 8.203125 \nQ 42.578125 3.328125 38.25 0.953125 \nQ 33.9375 -1.421875 27.875 -1.421875 \nQ 17.96875 -1.421875 11.734375 6.484375 \nQ 5.515625 14.40625 5.515625 27.296875 \nQ 5.515625 40.1875 11.734375 48.09375 \nQ 17.96875 56 27.875 56 \nQ 33.9375 56 38.25 53.625 \nQ 42.578125 51.265625 45.40625 46.390625 \nz\nM 14.796875 27.296875 \nQ 14.796875 17.390625 18.875 11.75 \nQ 22.953125 6.109375 30.078125 6.109375 \nQ 37.203125 6.109375 41.296875 11.75 \nQ 45.40625 17.390625 45.40625 27.296875 \nQ 45.40625 37.203125 41.296875 42.84375 \nQ 37.203125 48.484375 30.078125 48.484375 \nQ 22.953125 48.484375 18.875 42.84375 \nQ 14.796875 37.203125 14.796875 27.296875 \nz\n\" id=\"DejaVuSans-100\"/>\n       </defs>\n       <use xlink:href=\"#DejaVuSans-100\"/>\n       <use x=\"63.476562\" xlink:href=\"#DejaVuSans-105\"/>\n       <use x=\"91.259766\" xlink:href=\"#DejaVuSans-99\"/>\n       <use x=\"146.240234\" xlink:href=\"#DejaVuSans-105\"/>\n       <use x=\"174.023438\" xlink:href=\"#DejaVuSans-101\"/>\n       <use x=\"235.546875\" xlink:href=\"#DejaVuSans-109\"/>\n       <use x=\"332.958984\" xlink:href=\"#DejaVuSans-98\"/>\n       <use x=\"396.435547\" xlink:href=\"#DejaVuSans-114\"/>\n       <use x=\"435.298828\" xlink:href=\"#DejaVuSans-101\"/>\n      </g>\n     </g>\n    </g>\n    <g id=\"text_13\">\n     <!-- month -->\n     <g transform=\"translate(187.638281 310.5275)scale(0.1 -0.1)\">\n      <defs>\n       <path d=\"M 54.890625 33.015625 \nL 54.890625 0 \nL 45.90625 0 \nL 45.90625 32.71875 \nQ 45.90625 40.484375 42.875 44.328125 \nQ 39.84375 48.1875 33.796875 48.1875 \nQ 26.515625 48.1875 22.3125 43.546875 \nQ 18.109375 38.921875 18.109375 30.90625 \nL 18.109375 0 \nL 9.078125 0 \nL 9.078125 75.984375 \nL 18.109375 75.984375 \nL 18.109375 46.1875 \nQ 21.34375 51.125 25.703125 53.5625 \nQ 30.078125 56 35.796875 56 \nQ 45.21875 56 50.046875 50.171875 \nQ 54.890625 44.34375 54.890625 33.015625 \nz\n\" id=\"DejaVuSans-104\"/>\n      </defs>\n      <use xlink:href=\"#DejaVuSans-109\"/>\n      <use x=\"97.412109\" xlink:href=\"#DejaVuSans-111\"/>\n      <use x=\"158.59375\" xlink:href=\"#DejaVuSans-110\"/>\n      <use x=\"221.972656\" xlink:href=\"#DejaVuSans-116\"/>\n      <use x=\"261.181641\" xlink:href=\"#DejaVuSans-104\"/>\n     </g>\n    </g>\n   </g>\n   <g id=\"matplotlib.axis_2\">\n    <g id=\"ytick_1\">\n     <g id=\"line2d_13\">\n      <defs>\n       <path d=\"M 0 0 \nL -3.5 0 \n\" id=\"m67ec86916b\" style=\"stroke:#000000;stroke-width:0.8;\"/>\n      </defs>\n      <g>\n       <use style=\"stroke:#000000;stroke-width:0.8;\" x=\"36.465625\" xlink:href=\"#m67ec86916b\" y=\"235.238438\"/>\n      </g>\n     </g>\n     <g id=\"text_14\">\n      <!-- 0.00 -->\n      <g transform=\"translate(7.2 239.037656)scale(0.1 -0.1)\">\n       <defs>\n        <path d=\"M 31.78125 66.40625 \nQ 24.171875 66.40625 20.328125 58.90625 \nQ 16.5 51.421875 16.5 36.375 \nQ 16.5 21.390625 20.328125 13.890625 \nQ 24.171875 6.390625 31.78125 6.390625 \nQ 39.453125 6.390625 43.28125 13.890625 \nQ 47.125 21.390625 47.125 36.375 \nQ 47.125 51.421875 43.28125 58.90625 \nQ 39.453125 66.40625 31.78125 66.40625 \nz\nM 31.78125 74.21875 \nQ 44.046875 74.21875 50.515625 64.515625 \nQ 56.984375 54.828125 56.984375 36.375 \nQ 56.984375 17.96875 50.515625 8.265625 \nQ 44.046875 -1.421875 31.78125 -1.421875 \nQ 19.53125 -1.421875 13.0625 8.265625 \nQ 6.59375 17.96875 6.59375 36.375 \nQ 6.59375 54.828125 13.0625 64.515625 \nQ 19.53125 74.21875 31.78125 74.21875 \nz\n\" id=\"DejaVuSans-48\"/>\n        <path d=\"M 10.6875 12.40625 \nL 21 12.40625 \nL 21 0 \nL 10.6875 0 \nz\n\" id=\"DejaVuSans-46\"/>\n       </defs>\n       <use xlink:href=\"#DejaVuSans-48\"/>\n       <use x=\"63.623047\" xlink:href=\"#DejaVuSans-46\"/>\n       <use x=\"95.410156\" xlink:href=\"#DejaVuSans-48\"/>\n       <use x=\"159.033203\" xlink:href=\"#DejaVuSans-48\"/>\n      </g>\n     </g>\n    </g>\n    <g id=\"ytick_2\">\n     <g id=\"line2d_14\">\n      <g>\n       <use style=\"stroke:#000000;stroke-width:0.8;\" x=\"36.465625\" xlink:href=\"#m67ec86916b\" y=\"210.188917\"/>\n      </g>\n     </g>\n     <g id=\"text_15\">\n      <!-- 0.25 -->\n      <g transform=\"translate(7.2 213.988136)scale(0.1 -0.1)\">\n       <defs>\n        <path d=\"M 19.1875 8.296875 \nL 53.609375 8.296875 \nL 53.609375 0 \nL 7.328125 0 \nL 7.328125 8.296875 \nQ 12.9375 14.109375 22.625 23.890625 \nQ 32.328125 33.6875 34.8125 36.53125 \nQ 39.546875 41.84375 41.421875 45.53125 \nQ 43.3125 49.21875 43.3125 52.78125 \nQ 43.3125 58.59375 39.234375 62.25 \nQ 35.15625 65.921875 28.609375 65.921875 \nQ 23.96875 65.921875 18.8125 64.3125 \nQ 13.671875 62.703125 7.8125 59.421875 \nL 7.8125 69.390625 \nQ 13.765625 71.78125 18.9375 73 \nQ 24.125 74.21875 28.421875 74.21875 \nQ 39.75 74.21875 46.484375 68.546875 \nQ 53.21875 62.890625 53.21875 53.421875 \nQ 53.21875 48.921875 51.53125 44.890625 \nQ 49.859375 40.875 45.40625 35.40625 \nQ 44.1875 33.984375 37.640625 27.21875 \nQ 31.109375 20.453125 19.1875 8.296875 \nz\n\" id=\"DejaVuSans-50\"/>\n        <path d=\"M 10.796875 72.90625 \nL 49.515625 72.90625 \nL 49.515625 64.59375 \nL 19.828125 64.59375 \nL 19.828125 46.734375 \nQ 21.96875 47.46875 24.109375 47.828125 \nQ 26.265625 48.1875 28.421875 48.1875 \nQ 40.625 48.1875 47.75 41.5 \nQ 54.890625 34.8125 54.890625 23.390625 \nQ 54.890625 11.625 47.5625 5.09375 \nQ 40.234375 -1.421875 26.90625 -1.421875 \nQ 22.3125 -1.421875 17.546875 -0.640625 \nQ 12.796875 0.140625 7.71875 1.703125 \nL 7.71875 11.625 \nQ 12.109375 9.234375 16.796875 8.0625 \nQ 21.484375 6.890625 26.703125 6.890625 \nQ 35.15625 6.890625 40.078125 11.328125 \nQ 45.015625 15.765625 45.015625 23.390625 \nQ 45.015625 31 40.078125 35.4375 \nQ 35.15625 39.890625 26.703125 39.890625 \nQ 22.75 39.890625 18.8125 39.015625 \nQ 14.890625 38.140625 10.796875 36.28125 \nz\n\" id=\"DejaVuSans-53\"/>\n       </defs>\n       <use xlink:href=\"#DejaVuSans-48\"/>\n       <use x=\"63.623047\" xlink:href=\"#DejaVuSans-46\"/>\n       <use x=\"95.410156\" xlink:href=\"#DejaVuSans-50\"/>\n       <use x=\"159.033203\" xlink:href=\"#DejaVuSans-53\"/>\n      </g>\n     </g>\n    </g>\n    <g id=\"ytick_3\">\n     <g id=\"line2d_15\">\n      <g>\n       <use style=\"stroke:#000000;stroke-width:0.8;\" x=\"36.465625\" xlink:href=\"#m67ec86916b\" y=\"185.139397\"/>\n      </g>\n     </g>\n     <g id=\"text_16\">\n      <!-- 0.50 -->\n      <g transform=\"translate(7.2 188.938616)scale(0.1 -0.1)\">\n       <use xlink:href=\"#DejaVuSans-48\"/>\n       <use x=\"63.623047\" xlink:href=\"#DejaVuSans-46\"/>\n       <use x=\"95.410156\" xlink:href=\"#DejaVuSans-53\"/>\n       <use x=\"159.033203\" xlink:href=\"#DejaVuSans-48\"/>\n      </g>\n     </g>\n    </g>\n    <g id=\"ytick_4\">\n     <g id=\"line2d_16\">\n      <g>\n       <use style=\"stroke:#000000;stroke-width:0.8;\" x=\"36.465625\" xlink:href=\"#m67ec86916b\" y=\"160.089877\"/>\n      </g>\n     </g>\n     <g id=\"text_17\">\n      <!-- 0.75 -->\n      <g transform=\"translate(7.2 163.889096)scale(0.1 -0.1)\">\n       <defs>\n        <path d=\"M 8.203125 72.90625 \nL 55.078125 72.90625 \nL 55.078125 68.703125 \nL 28.609375 0 \nL 18.3125 0 \nL 43.21875 64.59375 \nL 8.203125 64.59375 \nz\n\" id=\"DejaVuSans-55\"/>\n       </defs>\n       <use xlink:href=\"#DejaVuSans-48\"/>\n       <use x=\"63.623047\" xlink:href=\"#DejaVuSans-46\"/>\n       <use x=\"95.410156\" xlink:href=\"#DejaVuSans-55\"/>\n       <use x=\"159.033203\" xlink:href=\"#DejaVuSans-53\"/>\n      </g>\n     </g>\n    </g>\n    <g id=\"ytick_5\">\n     <g id=\"line2d_17\">\n      <g>\n       <use style=\"stroke:#000000;stroke-width:0.8;\" x=\"36.465625\" xlink:href=\"#m67ec86916b\" y=\"135.040357\"/>\n      </g>\n     </g>\n     <g id=\"text_18\">\n      <!-- 1.00 -->\n      <g transform=\"translate(7.2 138.839576)scale(0.1 -0.1)\">\n       <defs>\n        <path d=\"M 12.40625 8.296875 \nL 28.515625 8.296875 \nL 28.515625 63.921875 \nL 10.984375 60.40625 \nL 10.984375 69.390625 \nL 28.421875 72.90625 \nL 38.28125 72.90625 \nL 38.28125 8.296875 \nL 54.390625 8.296875 \nL 54.390625 0 \nL 12.40625 0 \nz\n\" id=\"DejaVuSans-49\"/>\n       </defs>\n       <use xlink:href=\"#DejaVuSans-49\"/>\n       <use x=\"63.623047\" xlink:href=\"#DejaVuSans-46\"/>\n       <use x=\"95.410156\" xlink:href=\"#DejaVuSans-48\"/>\n       <use x=\"159.033203\" xlink:href=\"#DejaVuSans-48\"/>\n      </g>\n     </g>\n    </g>\n    <g id=\"ytick_6\">\n     <g id=\"line2d_18\">\n      <g>\n       <use style=\"stroke:#000000;stroke-width:0.8;\" x=\"36.465625\" xlink:href=\"#m67ec86916b\" y=\"109.990837\"/>\n      </g>\n     </g>\n     <g id=\"text_19\">\n      <!-- 1.25 -->\n      <g transform=\"translate(7.2 113.790056)scale(0.1 -0.1)\">\n       <use xlink:href=\"#DejaVuSans-49\"/>\n       <use x=\"63.623047\" xlink:href=\"#DejaVuSans-46\"/>\n       <use x=\"95.410156\" xlink:href=\"#DejaVuSans-50\"/>\n       <use x=\"159.033203\" xlink:href=\"#DejaVuSans-53\"/>\n      </g>\n     </g>\n    </g>\n    <g id=\"ytick_7\">\n     <g id=\"line2d_19\">\n      <g>\n       <use style=\"stroke:#000000;stroke-width:0.8;\" x=\"36.465625\" xlink:href=\"#m67ec86916b\" y=\"84.941317\"/>\n      </g>\n     </g>\n     <g id=\"text_20\">\n      <!-- 1.50 -->\n      <g transform=\"translate(7.2 88.740536)scale(0.1 -0.1)\">\n       <use xlink:href=\"#DejaVuSans-49\"/>\n       <use x=\"63.623047\" xlink:href=\"#DejaVuSans-46\"/>\n       <use x=\"95.410156\" xlink:href=\"#DejaVuSans-53\"/>\n       <use x=\"159.033203\" xlink:href=\"#DejaVuSans-48\"/>\n      </g>\n     </g>\n    </g>\n    <g id=\"ytick_8\">\n     <g id=\"line2d_20\">\n      <g>\n       <use style=\"stroke:#000000;stroke-width:0.8;\" x=\"36.465625\" xlink:href=\"#m67ec86916b\" y=\"59.891797\"/>\n      </g>\n     </g>\n     <g id=\"text_21\">\n      <!-- 1.75 -->\n      <g transform=\"translate(7.2 63.691016)scale(0.1 -0.1)\">\n       <use xlink:href=\"#DejaVuSans-49\"/>\n       <use x=\"63.623047\" xlink:href=\"#DejaVuSans-46\"/>\n       <use x=\"95.410156\" xlink:href=\"#DejaVuSans-55\"/>\n       <use x=\"159.033203\" xlink:href=\"#DejaVuSans-53\"/>\n      </g>\n     </g>\n    </g>\n    <g id=\"ytick_9\">\n     <g id=\"line2d_21\">\n      <g>\n       <use style=\"stroke:#000000;stroke-width:0.8;\" x=\"36.465625\" xlink:href=\"#m67ec86916b\" y=\"34.842277\"/>\n      </g>\n     </g>\n     <g id=\"text_22\">\n      <!-- 2.00 -->\n      <g transform=\"translate(7.2 38.641495)scale(0.1 -0.1)\">\n       <use xlink:href=\"#DejaVuSans-50\"/>\n       <use x=\"63.623047\" xlink:href=\"#DejaVuSans-46\"/>\n       <use x=\"95.410156\" xlink:href=\"#DejaVuSans-48\"/>\n       <use x=\"159.033203\" xlink:href=\"#DejaVuSans-48\"/>\n      </g>\n     </g>\n    </g>\n    <g id=\"text_23\">\n     <!-- 1e6 -->\n     <g transform=\"translate(36.465625 14.798437)scale(0.1 -0.1)\">\n      <defs>\n       <path d=\"M 33.015625 40.375 \nQ 26.375 40.375 22.484375 35.828125 \nQ 18.609375 31.296875 18.609375 23.390625 \nQ 18.609375 15.53125 22.484375 10.953125 \nQ 26.375 6.390625 33.015625 6.390625 \nQ 39.65625 6.390625 43.53125 10.953125 \nQ 47.40625 15.53125 47.40625 23.390625 \nQ 47.40625 31.296875 43.53125 35.828125 \nQ 39.65625 40.375 33.015625 40.375 \nz\nM 52.59375 71.296875 \nL 52.59375 62.3125 \nQ 48.875 64.0625 45.09375 64.984375 \nQ 41.3125 65.921875 37.59375 65.921875 \nQ 27.828125 65.921875 22.671875 59.328125 \nQ 17.53125 52.734375 16.796875 39.40625 \nQ 19.671875 43.65625 24.015625 45.921875 \nQ 28.375 48.1875 33.59375 48.1875 \nQ 44.578125 48.1875 50.953125 41.515625 \nQ 57.328125 34.859375 57.328125 23.390625 \nQ 57.328125 12.15625 50.6875 5.359375 \nQ 44.046875 -1.421875 33.015625 -1.421875 \nQ 20.359375 -1.421875 13.671875 8.265625 \nQ 6.984375 17.96875 6.984375 36.375 \nQ 6.984375 53.65625 15.1875 63.9375 \nQ 23.390625 74.21875 37.203125 74.21875 \nQ 40.921875 74.21875 44.703125 73.484375 \nQ 48.484375 72.75 52.59375 71.296875 \nz\n\" id=\"DejaVuSans-54\"/>\n      </defs>\n      <use xlink:href=\"#DejaVuSans-49\"/>\n      <use x=\"63.623047\" xlink:href=\"#DejaVuSans-101\"/>\n      <use x=\"125.146484\" xlink:href=\"#DejaVuSans-54\"/>\n     </g>\n    </g>\n   </g>\n   <g id=\"patch_15\">\n    <path d=\"M 36.465625 235.238438 \nL 36.465625 17.798437 \n\" style=\"fill:none;stroke:#000000;stroke-linecap:square;stroke-linejoin:miter;stroke-width:0.8;\"/>\n   </g>\n   <g id=\"patch_16\">\n    <path d=\"M 371.265625 235.238438 \nL 371.265625 17.798437 \n\" style=\"fill:none;stroke:#000000;stroke-linecap:square;stroke-linejoin:miter;stroke-width:0.8;\"/>\n   </g>\n   <g id=\"patch_17\">\n    <path d=\"M 36.465625 235.238438 \nL 371.265625 235.238438 \n\" style=\"fill:none;stroke:#000000;stroke-linecap:square;stroke-linejoin:miter;stroke-width:0.8;\"/>\n   </g>\n   <g id=\"patch_18\">\n    <path d=\"M 36.465625 17.798437 \nL 371.265625 17.798437 \n\" style=\"fill:none;stroke:#000000;stroke-linecap:square;stroke-linejoin:miter;stroke-width:0.8;\"/>\n   </g>\n   <g id=\"legend_1\">\n    <g id=\"patch_19\">\n     <path d=\"M 278.573438 40.476562 \nL 364.265625 40.476562 \nQ 366.265625 40.476562 366.265625 38.476562 \nL 366.265625 24.798437 \nQ 366.265625 22.798437 364.265625 22.798437 \nL 278.573438 22.798437 \nQ 276.573438 22.798437 276.573438 24.798437 \nL 276.573438 38.476562 \nQ 276.573438 40.476562 278.573438 40.476562 \nz\n\" style=\"fill:#ffffff;opacity:0.8;stroke:#cccccc;stroke-linejoin:miter;\"/>\n    </g>\n    <g id=\"patch_20\">\n     <path d=\"M 280.573438 34.396875 \nL 300.573438 34.396875 \nL 300.573438 27.396875 \nL 280.573438 27.396875 \nz\n\" style=\"fill:#1f77b4;\"/>\n    </g>\n    <g id=\"text_24\">\n     <!-- production -->\n     <g transform=\"translate(308.573438 34.396875)scale(0.1 -0.1)\">\n      <use xlink:href=\"#DejaVuSans-112\"/>\n      <use x=\"63.476562\" xlink:href=\"#DejaVuSans-114\"/>\n      <use x=\"102.339844\" xlink:href=\"#DejaVuSans-111\"/>\n      <use x=\"163.521484\" xlink:href=\"#DejaVuSans-100\"/>\n      <use x=\"226.998047\" xlink:href=\"#DejaVuSans-117\"/>\n      <use x=\"290.376953\" xlink:href=\"#DejaVuSans-99\"/>\n      <use x=\"345.357422\" xlink:href=\"#DejaVuSans-116\"/>\n      <use x=\"384.566406\" xlink:href=\"#DejaVuSans-105\"/>\n      <use x=\"412.349609\" xlink:href=\"#DejaVuSans-111\"/>\n      <use x=\"473.53125\" xlink:href=\"#DejaVuSans-110\"/>\n     </g>\n    </g>\n   </g>\n  </g>\n </g>\n <defs>\n  <clipPath id=\"p0c9dcc69d1\">\n   <rect height=\"217.44\" width=\"334.8\" x=\"36.465625\" y=\"17.798437\"/>\n  </clipPath>\n </defs>\n</svg>\n",
      "image/png": "[encoded data removed]"
     },
     "metadata": {
      "needs_background": "light"
     }
    }
   ],
   "source": [
    "a = pd.DataFrame(df_dict['2013'],columns = ['production']).reset_index()\n",
    "a=a.rename(columns={0:'month'})\n",
    "a.plot.bar(x = 'month',y='production')"
   ]
  },
  {
   "cell_type": "code",
   "execution_count": 90,
   "metadata": {},
   "outputs": [
    {
     "output_type": "execute_result",
     "data": {
      "text/plain": [
       "             0    production\n",
       "0        enero  2.030461e+06\n",
       "1      febrero  1.994911e+06\n",
       "2        marzo  2.025345e+06\n",
       "3        abril  2.022773e+06\n",
       "4         mayo  2.037127e+06\n",
       "5        junio  1.956449e+06\n",
       "6        julio  2.045418e+06\n",
       "7       agosto  2.066763e+06\n",
       "8   septiembre  1.999561e+06\n",
       "9      octubre  1.972531e+06\n",
       "10   noviembre  2.028128e+06\n",
       "11   diciembre  2.017085e+06"
      ],
      "text/html": "<div>\n<style scoped>\n    .dataframe tbody tr th:only-of-type {\n        vertical-align: middle;\n    }\n\n    .dataframe tbody tr th {\n        vertical-align: top;\n    }\n\n    .dataframe thead th {\n        text-align: right;\n    }\n</style>\n<table border=\"1\" class=\"dataframe\">\n  <thead>\n    <tr style=\"text-align: right;\">\n      <th></th>\n      <th>0</th>\n      <th>production</th>\n    </tr>\n  </thead>\n  <tbody>\n    <tr>\n      <th>0</th>\n      <td>enero</td>\n      <td>2.030461e+06</td>\n    </tr>\n    <tr>\n      <th>1</th>\n      <td>febrero</td>\n      <td>1.994911e+06</td>\n    </tr>\n    <tr>\n      <th>2</th>\n      <td>marzo</td>\n      <td>2.025345e+06</td>\n    </tr>\n    <tr>\n      <th>3</th>\n      <td>abril</td>\n      <td>2.022773e+06</td>\n    </tr>\n    <tr>\n      <th>4</th>\n      <td>mayo</td>\n      <td>2.037127e+06</td>\n    </tr>\n    <tr>\n      <th>5</th>\n      <td>junio</td>\n      <td>1.956449e+06</td>\n    </tr>\n    <tr>\n      <th>6</th>\n      <td>julio</td>\n      <td>2.045418e+06</td>\n    </tr>\n    <tr>\n      <th>7</th>\n      <td>agosto</td>\n      <td>2.066763e+06</td>\n    </tr>\n    <tr>\n      <th>8</th>\n      <td>septiembre</td>\n      <td>1.999561e+06</td>\n    </tr>\n    <tr>\n      <th>9</th>\n      <td>octubre</td>\n      <td>1.972531e+06</td>\n    </tr>\n    <tr>\n      <th>10</th>\n      <td>noviembre</td>\n      <td>2.028128e+06</td>\n    </tr>\n    <tr>\n      <th>11</th>\n      <td>diciembre</td>\n      <td>2.017085e+06</td>\n    </tr>\n  </tbody>\n</table>\n</div>"
     },
     "metadata": {},
     "execution_count": 90
    }
   ],
   "source": [
    "a"
   ]
  },
  {
   "source": [
    "January= df_dict['2020'].columns.get_loc(\"enero\")\n",
    "df_dict['2020']['Total_Prod']=df_dict['2020'].iloc[:,January::].fillna(0).sum(axis=1)"
   ],
   "cell_type": "code",
   "metadata": {},
   "execution_count": null,
   "outputs": []
  },
  {
   "cell_type": "code",
   "execution_count": null,
   "metadata": {},
   "outputs": [],
   "source": [
    "df_dict['2020'].isnull().sum()"
   ]
  },
  {
   "cell_type": "code",
   "execution_count": null,
   "metadata": {},
   "outputs": [],
   "source": [
    "\n",
    "\n",
    "df_dict = data.cleanData(df)"
   ]
  },
  {
   "cell_type": "code",
   "execution_count": null,
   "metadata": {},
   "outputs": [],
   "source": []
  },
  {
   "cell_type": "code",
   "execution_count": null,
   "metadata": {},
   "outputs": [],
   "source": [
    "#Eliminar duplicados, si los hay\n",
    "df_dict['2020']=df_dict['2020'].drop_duplicates()"
   ]
  },
  {
   "cell_type": "code",
   "execution_count": null,
   "metadata": {},
   "outputs": [],
   "source": [
    "df_dict['2020']"
   ]
  },
  {
   "cell_type": "code",
   "execution_count": null,
   "metadata": {},
   "outputs": [],
   "source": [
    "Highest_Prod=df_dict['2020'].groupby('campo')['Total_Prod'].sum().reset_index(name ='Anual_Prod')\n",
    "#Seleccionar los campos con mayor producción \n",
    "Highest_Prod.sort_values(by=['Anual_Prod'], ascending=False).iloc[0:5]"
   ]
  },
  {
   "cell_type": "code",
   "execution_count": null,
   "metadata": {},
   "outputs": [],
   "source": [
    "Op_Field_2018=df_dict['2018'].groupby(['operadora','departamento'])['campo'].count().reset_index(name ='#Prod_Fields')\n",
    "display(Op_Field_2018[(Op_Field_2018['departamento']=='CASANARE')&(Op_Field_2018['#Prod_Fields']>5)].count())\n",
    "display(Op_Field_2018[(Op_Field_2018['departamento']=='CASANARE')&(Op_Field_2018['#Prod_Fields']>5)])"
   ]
  },
  {
   "cell_type": "code",
   "execution_count": null,
   "metadata": {},
   "outputs": [],
   "source": [
    "Jan_2018= df_dict['2018'].columns.get_loc(\"enero\")\n",
    "df_dict['2018']['Total_Prod']=df_dict['2018'].iloc[:,Jan_2018::].fillna(0).sum(axis=1)\n",
    "Cont_Highest_Prod= df_dict['2018'].groupby('contrato')['Total_Prod'].sum().reset_index(name ='Anual_Prod')\n",
    "Cont_Highest_Prod.sort_values(by=['Anual_Prod'], ascending=False).iloc[0:5]"
   ]
  },
  {
   "cell_type": "code",
   "execution_count": null,
   "metadata": {},
   "outputs": [],
   "source": [
    "Op_High_Prod_2019= df_dict['2019'].groupby('operadora')['agosto'].sum().reset_index(name ='Prod_Aug')\n",
    "Op_High_Prod_2019.sort_values(by=['Prod_Aug'], ascending=False).iloc[0:10]"
   ]
  },
  {
   "cell_type": "code",
   "execution_count": null,
   "metadata": {},
   "outputs": [],
   "source": []
  },
  {
   "cell_type": "code",
   "execution_count": null,
   "metadata": {},
   "outputs": [],
   "source": []
  },
  {
   "cell_type": "code",
   "execution_count": null,
   "metadata": {},
   "outputs": [],
   "source": []
  }
 ],
 "metadata": {
  "kernelspec": {
   "name": "Python 3.8.4 64-bit",
   "display_name": "Python 3.8.4 64-bit",
   "metadata": {
    "interpreter": {
     "hash": "aee8b7b246df8f9039afb4144a1f6fd8d2ca17a180786b69acc140d282b71a49"
    }
   }
  },
  "language_info": {
   "codemirror_mode": {
    "name": "ipython",
    "version": 3
   },
   "file_extension": ".py",
   "mimetype": "text/x-python",
   "name": "python",
   "nbconvert_exporter": "python",
   "pygments_lexer": "ipython3",
   "version": "3.8.4-final"
  }
 },
 "nbformat": 4,
 "nbformat_minor": 4
}