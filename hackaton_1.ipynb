{
 "cells": [
  {
   "cell_type": "markdown",
   "metadata": {},
   "source": [
    "# Hackathon Oil&Gas: Data Warehouse\n",
    "\n",
    "## Participants\n",
    "- Cindy Ortega - cindy.or03@gmail.com\n",
    "- Nicolás Bueno - nbuenoz@unal.edu.co\n",
    "- Alejandro Uribe - jduriber@unal.edu.co"
   ]
  },
  {
   "cell_type": "markdown",
   "metadata": {},
   "source": [
    "## Libraries"
   ]
  },
  {
   "cell_type": "code",
   "execution_count": 1,
   "metadata": {},
   "outputs": [],
   "source": [
    "import sqlite3\n",
    "import numpy as np\n",
    "import pandas as pd\n",
    "from utils import dataProc\n",
    "from utils import downloadData\n",
    "import matplotlib.pyplot as plt\n",
    "from pathlib import Path"
   ]
  },
  {
   "cell_type": "markdown",
   "metadata": {},
   "source": [
    "## Downloading, Loading & Cleanning Data"
   ]
  },
  {
   "cell_type": "code",
   "execution_count": 2,
   "metadata": {},
   "outputs": [
    {
     "name": "stdout",
     "output_type": "stream",
     "text": [
      "Scrapping started\n",
      "Scrapping Failed. Trying again\n",
      "Scrapping started\n",
      "Scrapping finished\n",
      "['/Operaciones-Regalías-y-Participaciones/Sistema-Integrado-de-Operaciones/Documentos%20compartidos/Producción%20Fiscalizada%20Crudo%202020%20Agosto.xlsx', '/Operaciones-Regalías-y-Participaciones/Sistema-Integrado-de-Operaciones/Documentos%20compartidos/Producción%20Fiscalizada%20Crudo%202020%20Julio.xlsx', '/Operaciones-Regalías-y-Participaciones/Sistema-Integrado-de-Operaciones/Documents/Producción%20Fiscalizada%20Crudo%202020%20Junio.xlsx', '/Operaciones-Regalías-y-Participaciones/Sistema-Integrado-de-Operaciones/Documents/Producción%20Fiscalizada%20Crudo%202020%20Mayo.xlsx', '/Operaciones-Regalías-y-Participaciones/Sistema-Integrado-de-Operaciones/Documents/Producción%20Fiscalizada%20Crudo%202020%20Abril.xlsx', '/Operaciones-Regalías-y-Participaciones/Sistema-Integrado-de-Operaciones/Documents/Producción%20Fiscalizada%20Crudo%202020%20Marzo.xlsx', '/Operaciones-Regalías-y-Participaciones/Sistema-Integrado-de-Operaciones/Documents/Producción%20Fiscalizada%20Crudo%202020%20ENERO..._.xlsx', '/Operaciones-Regalías-y-Participaciones/Sistema-Integrado-de-Operaciones/Documents/Producción%20Fiscalizada%20Crudo%202019-DIC.xlsx', '/Operaciones-Regalías-y-Participaciones/Sistema-Integrado-de-Operaciones/Documents/Producción%20Fiscalizada%20Crudo%202018.xlsx', '/Operaciones-Regalías-y-Participaciones/Sistema-Integrado-de-Operaciones/Documents/Produccion-fiscalizada-crudo-2017.xlsx', '/Operaciones-Regalías-y-Participaciones/Sistema-Integrado-de-Operaciones/Documents/Producción%20fiscalizada%20crudo%202016_18042018.xls', '/Operaciones-Regalías-y-Participaciones/Sistema-Integrado-de-Operaciones/Documents/Producción%20Fiscalizada%20Crudo%202015.xlsx', '/Operaciones-Regalías-y-Participaciones/Sistema-Integrado-de-Operaciones/Documents/Producción%20fiscalizada%20de%20crudo_2014_31122014.xlsx', '/Operaciones-Regalías-y-Participaciones/Sistema-Integrado-de-Operaciones/Documents/Producción%20fiscalizada%20de%20crudo%20año%202013.xlsx']\n"
     ]
    },
    {
     "ename": "TypeError",
     "evalue": "'NoneType' object is not iterable",
     "output_type": "error",
     "traceback": [
      "\u001b[1;31m---------------------------------------------------------------------------\u001b[0m",
      "\u001b[1;31mTypeError\u001b[0m                                 Traceback (most recent call last)",
      "\u001b[1;32m<ipython-input-2-ac050c9e4fff>\u001b[0m in \u001b[0;36m<module>\u001b[1;34m\u001b[0m\n\u001b[0;32m      1\u001b[0m \u001b[1;31m# Scrappes and downloads the data from ANH website\u001b[0m\u001b[1;33m\u001b[0m\u001b[1;33m\u001b[0m\u001b[1;33m\u001b[0m\u001b[0m\n\u001b[0;32m      2\u001b[0m \u001b[0mdownload\u001b[0m \u001b[1;33m=\u001b[0m \u001b[0mdownloadData\u001b[0m\u001b[1;33m.\u001b[0m\u001b[0mdownloadData\u001b[0m\u001b[1;33m(\u001b[0m\u001b[1;33m)\u001b[0m\u001b[1;33m\u001b[0m\u001b[1;33m\u001b[0m\u001b[0m\n\u001b[1;32m----> 3\u001b[1;33m \u001b[0mdownload\u001b[0m\u001b[1;33m.\u001b[0m\u001b[0mgetData\u001b[0m\u001b[1;33m(\u001b[0m\u001b[1;33m)\u001b[0m\u001b[1;33m\u001b[0m\u001b[1;33m\u001b[0m\u001b[0m\n\u001b[0m\u001b[0;32m      4\u001b[0m \u001b[1;33m\u001b[0m\u001b[0m\n\u001b[0;32m      5\u001b[0m \u001b[1;31m#Load Blind test data and Data\u001b[0m\u001b[1;33m\u001b[0m\u001b[1;33m\u001b[0m\u001b[1;33m\u001b[0m\u001b[0m\n",
      "\u001b[1;32m~\\Downloads\\Hackaton_2020\\utils\\downloadData.py\u001b[0m in \u001b[0;36mgetData\u001b[1;34m(self)\u001b[0m\n\u001b[0;32m     88\u001b[0m         \u001b[1;32mif\u001b[0m \u001b[0mos\u001b[0m\u001b[1;33m.\u001b[0m\u001b[0mpath\u001b[0m\u001b[1;33m.\u001b[0m\u001b[0misdir\u001b[0m\u001b[1;33m(\u001b[0m\u001b[0mbase_dir\u001b[0m\u001b[1;33m)\u001b[0m\u001b[1;33m:\u001b[0m\u001b[1;33m\u001b[0m\u001b[1;33m\u001b[0m\u001b[0m\n\u001b[0;32m     89\u001b[0m             \u001b[0mlinks\u001b[0m \u001b[1;33m=\u001b[0m \u001b[0mself\u001b[0m\u001b[1;33m.\u001b[0m\u001b[0mget_links\u001b[0m\u001b[1;33m(\u001b[0m\u001b[1;33m)\u001b[0m\u001b[1;33m\u001b[0m\u001b[1;33m\u001b[0m\u001b[0m\n\u001b[1;32m---> 90\u001b[1;33m             \u001b[0mfilenames\u001b[0m \u001b[1;33m=\u001b[0m \u001b[0mself\u001b[0m\u001b[1;33m.\u001b[0m\u001b[0mget_filenames\u001b[0m\u001b[1;33m(\u001b[0m\u001b[0mlinks\u001b[0m\u001b[1;33m)\u001b[0m\u001b[1;33m\u001b[0m\u001b[1;33m\u001b[0m\u001b[0m\n\u001b[0m\u001b[0;32m     91\u001b[0m \u001b[1;33m\u001b[0m\u001b[0m\n\u001b[0;32m     92\u001b[0m             \u001b[1;32mfor\u001b[0m \u001b[0murl\u001b[0m\u001b[1;33m,\u001b[0m \u001b[0mfilename\u001b[0m \u001b[1;32min\u001b[0m \u001b[0mzip\u001b[0m\u001b[1;33m(\u001b[0m\u001b[0mlinks\u001b[0m\u001b[1;33m,\u001b[0m \u001b[0mfilenames\u001b[0m\u001b[1;33m)\u001b[0m\u001b[1;33m:\u001b[0m\u001b[1;33m\u001b[0m\u001b[1;33m\u001b[0m\u001b[0m\n",
      "\u001b[1;32m~\\Downloads\\Hackaton_2020\\utils\\downloadData.py\u001b[0m in \u001b[0;36mget_filenames\u001b[1;34m(self, links)\u001b[0m\n\u001b[0;32m     58\u001b[0m \u001b[1;33m\u001b[0m\u001b[0m\n\u001b[0;32m     59\u001b[0m         \u001b[1;31m# Find filenames before \".xlsx\" then clean non matching records\u001b[0m\u001b[1;33m\u001b[0m\u001b[1;33m\u001b[0m\u001b[1;33m\u001b[0m\u001b[0m\n\u001b[1;32m---> 60\u001b[1;33m         \u001b[1;32mfor\u001b[0m \u001b[0mlink\u001b[0m \u001b[1;32min\u001b[0m \u001b[0mlinks\u001b[0m\u001b[1;33m:\u001b[0m\u001b[1;33m\u001b[0m\u001b[1;33m\u001b[0m\u001b[0m\n\u001b[0m\u001b[0;32m     61\u001b[0m             \u001b[0mfile\u001b[0m \u001b[1;33m=\u001b[0m \u001b[0mre\u001b[0m\u001b[1;33m.\u001b[0m\u001b[0mfindall\u001b[0m\u001b[1;33m(\u001b[0m\u001b[1;34mr'[^\\/]+(?=\\.)'\u001b[0m\u001b[1;33m,\u001b[0m \u001b[0mlink\u001b[0m\u001b[1;33m)\u001b[0m\u001b[1;33m\u001b[0m\u001b[1;33m\u001b[0m\u001b[0m\n\u001b[0;32m     62\u001b[0m             \u001b[1;32mif\u001b[0m \u001b[0mlen\u001b[0m\u001b[1;33m(\u001b[0m\u001b[0mfile\u001b[0m\u001b[1;33m)\u001b[0m \u001b[1;33m==\u001b[0m \u001b[1;36m0\u001b[0m\u001b[1;33m:\u001b[0m\u001b[1;33m\u001b[0m\u001b[1;33m\u001b[0m\u001b[0m\n",
      "\u001b[1;31mTypeError\u001b[0m: 'NoneType' object is not iterable"
     ]
    }
   ],
   "source": [
    "# Scrappes and downloads the data from ANH website\n",
    "download = downloadData.downloadData()\n",
    "download.getData()\n",
    "\n",
    "#Load Blind test data and Data\n",
    "data = dataProc.dataProc()\n",
    "df = data.loadData()\n",
    "df_dict_blind = data.loadBlindData()\n",
    "df_dict = data.cleanData(df)"
   ]
  },
  {
   "cell_type": "markdown",
   "metadata": {},
   "source": [
    "## Database\n",
    "The data can be also read from a SQLite Database as follows."
   ]
  },
  {
   "cell_type": "code",
   "execution_count": null,
   "metadata": {},
   "outputs": [],
   "source": [
    "db_dir=Path('./database/anh_data.db')\n",
    "conn = sqlite3.connect(db_dir)\n",
    "c = conn.cursor()"
   ]
  },
  {
   "cell_type": "markdown",
   "metadata": {},
   "source": [
    "The tables' names stored in the database can be retrieved as follows:"
   ]
  },
  {
   "cell_type": "code",
   "execution_count": 4,
   "metadata": {},
   "outputs": [
    {
     "data": {
      "text/plain": [
       "[('crude_2017',),\n",
       " ('crude_2016',),\n",
       " ('crude_2013',),\n",
       " ('crude_2019',),\n",
       " ('crude_2015',),\n",
       " ('crude_2014',),\n",
       " ('crude_2018',),\n",
       " ('crude_2020',)]"
      ]
     },
     "execution_count": 4,
     "metadata": {},
     "output_type": "execute_result"
    }
   ],
   "source": [
    "c.execute('''SELECT name FROM sqlite_master WHERE type ='table' AND name NOT LIKE 'sqlite_%';''').fetchall()"
   ]
  },
  {
   "cell_type": "markdown",
   "metadata": {},
   "source": [
    "The `crude_2018` table's headers ca be retrieved as follows:"
   ]
  },
  {
   "cell_type": "code",
   "execution_count": 5,
   "metadata": {},
   "outputs": [
    {
     "data": {
      "text/plain": [
       "[(0, 'departamento', 'TEXT', 0, None, 0),\n",
       " (1, 'municipio', 'TEXT', 0, None, 0),\n",
       " (2, 'operadora', 'TEXT', 0, None, 0),\n",
       " (3, 'contrato', 'TEXT', 0, None, 0),\n",
       " (4, 'campo', 'TEXT', 0, None, 0),\n",
       " (5, 'enero', 'TEXT', 0, None, 0),\n",
       " (6, 'febrero', 'TEXT', 0, None, 0),\n",
       " (7, 'marzo', 'TEXT', 0, None, 0),\n",
       " (8, 'abril', 'TEXT', 0, None, 0),\n",
       " (9, 'mayo', 'TEXT', 0, None, 0),\n",
       " (10, 'junio', 'TEXT', 0, None, 0),\n",
       " (11, 'julio', 'TEXT', 0, None, 0),\n",
       " (12, 'agosto', 'TEXT', 0, None, 0),\n",
       " (13, 'septiembre', 'TEXT', 0, None, 0),\n",
       " (14, 'octubre', 'TEXT', 0, None, 0),\n",
       " (15, 'noviembre', 'TEXT', 0, None, 0),\n",
       " (16, 'diciembre', 'TEXT', 0, None, 0)]"
      ]
     },
     "execution_count": 5,
     "metadata": {},
     "output_type": "execute_result"
    }
   ],
   "source": [
    "c.execute('''PRAGMA table_info(crude_2019)''').fetchall()"
   ]
  },
  {
   "cell_type": "markdown",
   "metadata": {},
   "source": [
    "Other queries are shown below:"
   ]
  },
  {
   "cell_type": "code",
   "execution_count": 6,
   "metadata": {},
   "outputs": [
    {
     "data": {
      "text/plain": [
       "[('antioquia',\n",
       "  'PUERTO NARE',\n",
       "  'ecopetrol s.a.',\n",
       "  'operacion-directa ecopetrol',\n",
       "  'area teca-cocorna',\n",
       "  '1290.88838709677',\n",
       "  '1232.14785714286',\n",
       "  '1146.54709677419',\n",
       "  '1183.47233333333',\n",
       "  '1264.54193548387',\n",
       "  '1201.59633333333',\n",
       "  '1276.36161290323',\n",
       "  '1326.87032258065',\n",
       "  '1404.01266666667',\n",
       "  '1218.92483870968',\n",
       "  '1333.641',\n",
       "  '1373.87677419355')]"
      ]
     },
     "execution_count": 6,
     "metadata": {},
     "output_type": "execute_result"
    }
   ],
   "source": [
    "c.execute('''SELECT * FROM crude_2018 LIMIT 1''').fetchall()"
   ]
  },
  {
   "cell_type": "markdown",
   "metadata": {},
   "source": [
    "For example, the top 5 departamentos which produced crude in January 2018."
   ]
  },
  {
   "cell_type": "code",
   "execution_count": 7,
   "metadata": {},
   "outputs": [
    {
     "data": {
      "text/plain": [
       "[('meta', 425024.3983870972),\n",
       " ('casanare', 162805.02645161285),\n",
       " ('santander', 62680.61967741938),\n",
       " ('arauca', 46571.40838709677),\n",
       " ('putumayo', 36501.45064516129)]"
      ]
     },
     "execution_count": 7,
     "metadata": {},
     "output_type": "execute_result"
    }
   ],
   "source": [
    "c.execute('''SELECT departamento, SUM(enero) AS total FROM crude_2018 GROUP BY crude_2018.departamento \n",
    "                ORDER BY total DESC LIMIT 5''').fetchall()"
   ]
  },
  {
   "cell_type": "markdown",
   "metadata": {},
   "source": [
    "## Blind test"
   ]
  },
  {
   "cell_type": "code",
   "execution_count": 11,
   "metadata": {},
   "outputs": [
    {
     "data": {
      "text/html": [
       "<div>\n",
       "<style scoped>\n",
       "    .dataframe tbody tr th:only-of-type {\n",
       "        vertical-align: middle;\n",
       "    }\n",
       "\n",
       "    .dataframe tbody tr th {\n",
       "        vertical-align: top;\n",
       "    }\n",
       "\n",
       "    .dataframe thead th {\n",
       "        text-align: right;\n",
       "    }\n",
       "</style>\n",
       "<table border=\"1\" class=\"dataframe\">\n",
       "  <thead>\n",
       "    <tr style=\"text-align: right;\">\n",
       "      <th></th>\n",
       "      <th>DEPARTAMENTO</th>\n",
       "      <th>MUNICIPIO</th>\n",
       "      <th>OPERADORA</th>\n",
       "      <th>CONTRATO</th>\n",
       "      <th>CAMPO</th>\n",
       "      <th>ENERO</th>\n",
       "      <th>FEBRERO</th>\n",
       "      <th>MARZO</th>\n",
       "      <th>ABRIL</th>\n",
       "      <th>MAYO</th>\n",
       "      <th>JUNIO</th>\n",
       "      <th>JULIO</th>\n",
       "      <th>AGOSTO</th>\n",
       "      <th>SEPTIEMBRE</th>\n",
       "      <th>OCTUBRE</th>\n",
       "      <th>NOVIEMBRE</th>\n",
       "      <th>DICIEMBRE</th>\n",
       "      <th>CUENCA</th>\n",
       "      <th>EMPRESA</th>\n",
       "    </tr>\n",
       "  </thead>\n",
       "  <tbody>\n",
       "    <tr>\n",
       "      <th>0</th>\n",
       "      <td>cf33cb8a</td>\n",
       "      <td>cf33cb8a</td>\n",
       "      <td>d5580f74</td>\n",
       "      <td>76a16657</td>\n",
       "      <td>1f d2689f</td>\n",
       "      <td>12371.083713</td>\n",
       "      <td>14146.300572</td>\n",
       "      <td>3994.040924</td>\n",
       "      <td>13955.411987</td>\n",
       "      <td>12916.569159</td>\n",
       "      <td>12134.962767</td>\n",
       "      <td>11616.805382</td>\n",
       "      <td>12365.190366</td>\n",
       "      <td>12010.883245</td>\n",
       "      <td>10913.532571</td>\n",
       "      <td>9918.024556</td>\n",
       "      <td>9141.248604</td>\n",
       "      <td>NaN</td>\n",
       "      <td>NaN</td>\n",
       "    </tr>\n",
       "    <tr>\n",
       "      <th>1</th>\n",
       "      <td>cf33cb8a</td>\n",
       "      <td>cf33cb8a</td>\n",
       "      <td>d5580f74</td>\n",
       "      <td>76a16657</td>\n",
       "      <td>9ac1420f</td>\n",
       "      <td>5.367156</td>\n",
       "      <td>0.000000</td>\n",
       "      <td>58.617761</td>\n",
       "      <td>435.456412</td>\n",
       "      <td>322.485383</td>\n",
       "      <td>253.958847</td>\n",
       "      <td>233.769454</td>\n",
       "      <td>252.992992</td>\n",
       "      <td>284.516555</td>\n",
       "      <td>274.742251</td>\n",
       "      <td>41.468587</td>\n",
       "      <td>246.152500</td>\n",
       "      <td>NaN</td>\n",
       "      <td>NaN</td>\n",
       "    </tr>\n",
       "    <tr>\n",
       "      <th>2</th>\n",
       "      <td>cf33cb8a</td>\n",
       "      <td>cf33cb8a</td>\n",
       "      <td>d5580f74</td>\n",
       "      <td>76a16657</td>\n",
       "      <td>9b395bc9</td>\n",
       "      <td>120.462831</td>\n",
       "      <td>569.442204</td>\n",
       "      <td>226.753564</td>\n",
       "      <td>478.519945</td>\n",
       "      <td>548.853073</td>\n",
       "      <td>564.864503</td>\n",
       "      <td>458.804125</td>\n",
       "      <td>494.690402</td>\n",
       "      <td>432.012780</td>\n",
       "      <td>380.752349</td>\n",
       "      <td>493.309441</td>\n",
       "      <td>442.527260</td>\n",
       "      <td>NaN</td>\n",
       "      <td>NaN</td>\n",
       "    </tr>\n",
       "    <tr>\n",
       "      <th>3</th>\n",
       "      <td>cf33cb8a</td>\n",
       "      <td>cf33cb8a</td>\n",
       "      <td>d5580f74</td>\n",
       "      <td>29ded6f4</td>\n",
       "      <td>2f614c0b</td>\n",
       "      <td>23208.879752</td>\n",
       "      <td>22340.062006</td>\n",
       "      <td>1600.464821</td>\n",
       "      <td>21219.954457</td>\n",
       "      <td>22985.774451</td>\n",
       "      <td>23339.999720</td>\n",
       "      <td>19351.403126</td>\n",
       "      <td>22098.474846</td>\n",
       "      <td>22122.077469</td>\n",
       "      <td>21993.692529</td>\n",
       "      <td>20269.221852</td>\n",
       "      <td>22206.168757</td>\n",
       "      <td>NaN</td>\n",
       "      <td>NaN</td>\n",
       "    </tr>\n",
       "    <tr>\n",
       "      <th>4</th>\n",
       "      <td>cf33cb8a</td>\n",
       "      <td>cf33cb8a</td>\n",
       "      <td>d5580f74</td>\n",
       "      <td>29ded6f4</td>\n",
       "      <td>043b305e</td>\n",
       "      <td>4386.088856</td>\n",
       "      <td>4038.953896</td>\n",
       "      <td>186.762991</td>\n",
       "      <td>3757.329474</td>\n",
       "      <td>4340.204936</td>\n",
       "      <td>4265.247167</td>\n",
       "      <td>2957.583498</td>\n",
       "      <td>3792.334088</td>\n",
       "      <td>4064.682751</td>\n",
       "      <td>3756.061936</td>\n",
       "      <td>3999.688716</td>\n",
       "      <td>4103.523887</td>\n",
       "      <td>NaN</td>\n",
       "      <td>NaN</td>\n",
       "    </tr>\n",
       "  </tbody>\n",
       "</table>\n",
       "</div>"
      ],
      "text/plain": [
       "  DEPARTAMENTO MUNICIPIO OPERADORA  CONTRATO      CAMPO         ENERO  \\\n",
       "0     cf33cb8a  cf33cb8a  d5580f74  76a16657  1f d2689f  12371.083713   \n",
       "1     cf33cb8a  cf33cb8a  d5580f74  76a16657   9ac1420f      5.367156   \n",
       "2     cf33cb8a  cf33cb8a  d5580f74  76a16657   9b395bc9    120.462831   \n",
       "3     cf33cb8a  cf33cb8a  d5580f74  29ded6f4   2f614c0b  23208.879752   \n",
       "4     cf33cb8a  cf33cb8a  d5580f74  29ded6f4   043b305e   4386.088856   \n",
       "\n",
       "        FEBRERO        MARZO         ABRIL          MAYO         JUNIO  \\\n",
       "0  14146.300572  3994.040924  13955.411987  12916.569159  12134.962767   \n",
       "1      0.000000    58.617761    435.456412    322.485383    253.958847   \n",
       "2    569.442204   226.753564    478.519945    548.853073    564.864503   \n",
       "3  22340.062006  1600.464821  21219.954457  22985.774451  23339.999720   \n",
       "4   4038.953896   186.762991   3757.329474   4340.204936   4265.247167   \n",
       "\n",
       "          JULIO        AGOSTO    SEPTIEMBRE       OCTUBRE     NOVIEMBRE  \\\n",
       "0  11616.805382  12365.190366  12010.883245  10913.532571   9918.024556   \n",
       "1    233.769454    252.992992    284.516555    274.742251     41.468587   \n",
       "2    458.804125    494.690402    432.012780    380.752349    493.309441   \n",
       "3  19351.403126  22098.474846  22122.077469  21993.692529  20269.221852   \n",
       "4   2957.583498   3792.334088   4064.682751   3756.061936   3999.688716   \n",
       "\n",
       "      DICIEMBRE  CUENCA  EMPRESA  \n",
       "0   9141.248604     NaN      NaN  \n",
       "1    246.152500     NaN      NaN  \n",
       "2    442.527260     NaN      NaN  \n",
       "3  22206.168757     NaN      NaN  \n",
       "4   4103.523887     NaN      NaN  "
      ]
     },
     "execution_count": 11,
     "metadata": {},
     "output_type": "execute_result"
    }
   ],
   "source": [
    "df_dict_blind['2017'].head()"
   ]
  },
  {
   "cell_type": "code",
   "execution_count": null,
   "metadata": {},
   "outputs": [],
   "source": []
  },
  {
   "cell_type": "code",
   "execution_count": null,
   "metadata": {},
   "outputs": [],
   "source": []
  },
  {
   "cell_type": "code",
   "execution_count": null,
   "metadata": {},
   "outputs": [],
   "source": []
  },
  {
   "cell_type": "markdown",
   "metadata": {},
   "source": [
    "## Data Analysis"
   ]
  },
  {
   "cell_type": "code",
   "execution_count": 8,
   "metadata": {},
   "outputs": [
    {
     "data": {
      "text/plain": [
       "dict_keys(['2017', '2016', '2013', '2019', '2015', '2014', '2018', '2020'])"
      ]
     },
     "execution_count": 8,
     "metadata": {},
     "output_type": "execute_result"
    }
   ],
   "source": [
    "#df_dict.keys()"
   ]
  },
  {
   "cell_type": "code",
   "execution_count": 11,
   "metadata": {},
   "outputs": [],
   "source": [
    "January= df_dict['2020'].columns.get_loc(\"enero\")\n",
    "df_dict['2020']['Total_Prod']=df_dict['2020'].iloc[:,January::].fillna(0).sum(axis=1)"
   ]
  },
  {
   "cell_type": "code",
   "execution_count": 12,
   "metadata": {},
   "outputs": [
    {
     "data": {
      "text/plain": [
       "0\n",
       "departamento    0\n",
       "municipio       0\n",
       "operadora       0\n",
       "contrato        0\n",
       "campo           0\n",
       "enero           0\n",
       "febrero         0\n",
       "marzo           0\n",
       "abril           0\n",
       "mayo            0\n",
       "junio           0\n",
       "julio           0\n",
       "agosto          0\n",
       "Total_Prod      0\n",
       "dtype: int64"
      ]
     },
     "execution_count": 12,
     "metadata": {},
     "output_type": "execute_result"
    }
   ],
   "source": [
    "df_dict['2020'].isnull().sum()"
   ]
  },
  {
   "cell_type": "code",
   "execution_count": 13,
   "metadata": {},
   "outputs": [],
   "source": [
    "#Eliminar duplicados, si los hay\n",
    "df_dict['2020']=df_dict['2020'].drop_duplicates()"
   ]
  },
  {
   "cell_type": "code",
   "execution_count": 15,
   "metadata": {},
   "outputs": [
    {
     "data": {
      "text/html": [
       "<div>\n",
       "<style scoped>\n",
       "    .dataframe tbody tr th:only-of-type {\n",
       "        vertical-align: middle;\n",
       "    }\n",
       "\n",
       "    .dataframe tbody tr th {\n",
       "        vertical-align: top;\n",
       "    }\n",
       "\n",
       "    .dataframe thead th {\n",
       "        text-align: right;\n",
       "    }\n",
       "</style>\n",
       "<table border=\"1\" class=\"dataframe\">\n",
       "  <thead>\n",
       "    <tr style=\"text-align: right;\">\n",
       "      <th></th>\n",
       "      <th>campo</th>\n",
       "      <th>Anual_Prod</th>\n",
       "    </tr>\n",
       "  </thead>\n",
       "  <tbody>\n",
       "    <tr>\n",
       "      <th>313</th>\n",
       "      <td>rubiales</td>\n",
       "      <td>857001.07</td>\n",
       "    </tr>\n",
       "    <tr>\n",
       "      <th>73</th>\n",
       "      <td>castilla</td>\n",
       "      <td>537068.14</td>\n",
       "    </tr>\n",
       "    <tr>\n",
       "      <th>93</th>\n",
       "      <td>chichimene</td>\n",
       "      <td>388023.81</td>\n",
       "    </tr>\n",
       "    <tr>\n",
       "      <th>75</th>\n",
       "      <td>castilla norte</td>\n",
       "      <td>380005.77</td>\n",
       "    </tr>\n",
       "    <tr>\n",
       "      <th>298</th>\n",
       "      <td>quifa</td>\n",
       "      <td>304783.67</td>\n",
       "    </tr>\n",
       "  </tbody>\n",
       "</table>\n",
       "</div>"
      ],
      "text/plain": [
       "              campo  Anual_Prod\n",
       "313        rubiales   857001.07\n",
       "73        castilla    537068.14\n",
       "93       chichimene   388023.81\n",
       "75   castilla norte   380005.77\n",
       "298           quifa   304783.67"
      ]
     },
     "execution_count": 15,
     "metadata": {},
     "output_type": "execute_result"
    }
   ],
   "source": [
    "Prod_2020=df_dict['2020'].groupby('campo')['Total_Prod'].sum().reset_index(name ='Anual_Prod')\n",
    "Highest_Prod=Prod_2020.sort_values(by=['Anual_Prod'], ascending=False).iloc[0:20,:]\n",
    "display(Highest_Prod.iloc[0:5].reset_index(drop=True))\n",
    "Highest_Prod.plot(x='campo', y='Anual_Prod', kind=\"bar\",figsize=(15,5))"
   ]
  },
  {
   "cell_type": "code",
   "execution_count": 16,
   "metadata": {},
   "outputs": [
    {
     "data": {
      "text/plain": [
       "operadora       0\n",
       "departamento    0\n",
       "#Prod_Fields    0\n",
       "dtype: int64"
      ]
     },
     "metadata": {},
     "output_type": "display_data"
    },
    {
     "data": {
      "text/html": [
       "<div>\n",
       "<style scoped>\n",
       "    .dataframe tbody tr th:only-of-type {\n",
       "        vertical-align: middle;\n",
       "    }\n",
       "\n",
       "    .dataframe tbody tr th {\n",
       "        vertical-align: top;\n",
       "    }\n",
       "\n",
       "    .dataframe thead th {\n",
       "        text-align: right;\n",
       "    }\n",
       "</style>\n",
       "<table border=\"1\" class=\"dataframe\">\n",
       "  <thead>\n",
       "    <tr style=\"text-align: right;\">\n",
       "      <th></th>\n",
       "      <th>operadora</th>\n",
       "      <th>departamento</th>\n",
       "      <th>#Prod_Fields</th>\n",
       "    </tr>\n",
       "  </thead>\n",
       "  <tbody>\n",
       "  </tbody>\n",
       "</table>\n",
       "</div>"
      ],
      "text/plain": [
       "Empty DataFrame\n",
       "Columns: [operadora, departamento, #Prod_Fields]\n",
       "Index: []"
      ]
     },
     "metadata": {},
     "output_type": "display_data"
    }
   ],
   "source": [
    "Op_Field_2018=df_dict['2018'].groupby(['operadora','departamento'])['campo'].count().reset_index(name ='#Prod_Fields')\n",
    "Op_casanare_2018=Op_Field_2018[(Op_Field_2018['departamento']=='CASANARE')&(Op_Field_2018['#Prod_Fields']>5)]\n",
    "display(Op_casanare_2018.count())\n",
    "display(Op_casanare_2018.sort_values(by=['#Prod_Fields'], ascending=False).reset_index(drop=True))\n",
    "Op_casanare_2018.sort_values(by=['#Prod_Fields'], ascending=False).plot(x='operadora', y='#Prod_Fields', kind=\"bar\",figsize=(15,5))"
   ]
  },
  {
   "cell_type": "code",
   "execution_count": 17,
   "metadata": {},
   "outputs": [
    {
     "data": {
      "text/html": [
       "<div>\n",
       "<style scoped>\n",
       "    .dataframe tbody tr th:only-of-type {\n",
       "        vertical-align: middle;\n",
       "    }\n",
       "\n",
       "    .dataframe tbody tr th {\n",
       "        vertical-align: top;\n",
       "    }\n",
       "\n",
       "    .dataframe thead th {\n",
       "        text-align: right;\n",
       "    }\n",
       "</style>\n",
       "<table border=\"1\" class=\"dataframe\">\n",
       "  <thead>\n",
       "    <tr style=\"text-align: right;\">\n",
       "      <th></th>\n",
       "      <th>contrato</th>\n",
       "      <th>Anual_Prod</th>\n",
       "    </tr>\n",
       "  </thead>\n",
       "  <tbody>\n",
       "    <tr>\n",
       "      <th>44</th>\n",
       "      <td>cubarral</td>\n",
       "      <td>2.177189e+06</td>\n",
       "    </tr>\n",
       "    <tr>\n",
       "      <th>138</th>\n",
       "      <td>rubiales</td>\n",
       "      <td>1.433612e+06</td>\n",
       "    </tr>\n",
       "    <tr>\n",
       "      <th>91</th>\n",
       "      <td>lla 34</td>\n",
       "      <td>7.255796e+05</td>\n",
       "    </tr>\n",
       "    <tr>\n",
       "      <th>130</th>\n",
       "      <td>quifa</td>\n",
       "      <td>5.544383e+05</td>\n",
       "    </tr>\n",
       "    <tr>\n",
       "      <th>75</th>\n",
       "      <td>la cira infantas</td>\n",
       "      <td>5.424151e+05</td>\n",
       "    </tr>\n",
       "  </tbody>\n",
       "</table>\n",
       "</div>"
      ],
      "text/plain": [
       "             contrato    Anual_Prod\n",
       "44           cubarral  2.177189e+06\n",
       "138          rubiales  1.433612e+06\n",
       "91             lla 34  7.255796e+05\n",
       "130             quifa  5.544383e+05\n",
       "75   la cira infantas  5.424151e+05"
      ]
     },
     "execution_count": 17,
     "metadata": {},
     "output_type": "execute_result"
    }
   ],
   "source": [
    "Jan_2018= df_dict['2018'].columns.get_loc(\"enero\")\n",
    "df_dict['2018']['Total_Prod']=df_dict['2018'].iloc[:,Jan_2018::].fillna(0).sum(axis=1)\n",
    "Cont_Highest_Prod= df_dict['2018'].groupby('contrato')['Total_Prod'].sum().reset_index(name ='Anual_Prod')\n",
    "Five_Hg_prod=Cont_Highest_Prod.sort_values(by=['Anual_Prod'], ascending=False).iloc[0:5]\n",
    "display(Five_Hg_prod.reset_index(drop=True))\n",
    "Five_Hg_prod.plot(x='contrato', y='Anual_Prod', kind=\"bar\",figsize=(15,5))"
   ]
  },
  {
   "cell_type": "code",
   "execution_count": 18,
   "metadata": {},
   "outputs": [
    {
     "data": {
      "text/html": [
       "<div>\n",
       "<style scoped>\n",
       "    .dataframe tbody tr th:only-of-type {\n",
       "        vertical-align: middle;\n",
       "    }\n",
       "\n",
       "    .dataframe tbody tr th {\n",
       "        vertical-align: top;\n",
       "    }\n",
       "\n",
       "    .dataframe thead th {\n",
       "        text-align: right;\n",
       "    }\n",
       "</style>\n",
       "<table border=\"1\" class=\"dataframe\">\n",
       "  <thead>\n",
       "    <tr style=\"text-align: right;\">\n",
       "      <th></th>\n",
       "      <th>operadora</th>\n",
       "      <th>Prod_Aug</th>\n",
       "    </tr>\n",
       "  </thead>\n",
       "  <tbody>\n",
       "    <tr>\n",
       "      <th>7</th>\n",
       "      <td>ecopetrol s.a.</td>\n",
       "      <td>473986.41</td>\n",
       "    </tr>\n",
       "    <tr>\n",
       "      <th>10</th>\n",
       "      <td>frontera energy colombia corp sucursal colombia</td>\n",
       "      <td>81441.68</td>\n",
       "    </tr>\n",
       "    <tr>\n",
       "      <th>11</th>\n",
       "      <td>geopark colombia s.a.s.</td>\n",
       "      <td>69154.42</td>\n",
       "    </tr>\n",
       "    <tr>\n",
       "      <th>24</th>\n",
       "      <td>occidental de colombia llc</td>\n",
       "      <td>53299.12</td>\n",
       "    </tr>\n",
       "    <tr>\n",
       "      <th>9</th>\n",
       "      <td>equion energía limited</td>\n",
       "      <td>34950.01</td>\n",
       "    </tr>\n",
       "    <tr>\n",
       "      <th>13</th>\n",
       "      <td>gran tierra energy colombia ltd</td>\n",
       "      <td>29555.20</td>\n",
       "    </tr>\n",
       "    <tr>\n",
       "      <th>21</th>\n",
       "      <td>mansarovar energy colombia ltd</td>\n",
       "      <td>25256.75</td>\n",
       "    </tr>\n",
       "    <tr>\n",
       "      <th>14</th>\n",
       "      <td>hocol s.a.</td>\n",
       "      <td>19614.02</td>\n",
       "    </tr>\n",
       "    <tr>\n",
       "      <th>28</th>\n",
       "      <td>parex resources colombia ltd. sucursal</td>\n",
       "      <td>15727.97</td>\n",
       "    </tr>\n",
       "    <tr>\n",
       "      <th>3</th>\n",
       "      <td>cepsa colombia s.a.</td>\n",
       "      <td>12702.09</td>\n",
       "    </tr>\n",
       "  </tbody>\n",
       "</table>\n",
       "</div>"
      ],
      "text/plain": [
       "                                          operadora   Prod_Aug\n",
       "7                                    ecopetrol s.a.  473986.41\n",
       "10  frontera energy colombia corp sucursal colombia   81441.68\n",
       "11                          geopark colombia s.a.s.   69154.42\n",
       "24                       occidental de colombia llc   53299.12\n",
       "9                            equion energía limited   34950.01\n",
       "13                  gran tierra energy colombia ltd   29555.20\n",
       "21                   mansarovar energy colombia ltd   25256.75\n",
       "14                                       hocol s.a.   19614.02\n",
       "28           parex resources colombia ltd. sucursal   15727.97\n",
       "3                               cepsa colombia s.a.   12702.09"
      ]
     },
     "execution_count": 18,
     "metadata": {},
     "output_type": "execute_result"
    }
   ],
   "source": [
    "Op_High_Prod_2019= df_dict['2019'].groupby('operadora')['agosto'].sum().reset_index(name ='Prod_Aug')\n",
    "Op_Hh_Pd_2019=Op_High_Prod_2019.sort_values(by=['Prod_Aug'], ascending=False).iloc[0:10]\n",
    "display(Op_Hh_Pd_2019.reset_index(drop=True))\n",
    "Op_Hh_Pd_2019.plot(x='operadora', y='Prod_Aug', kind=\"bar\",figsize=(15,5))"
   ]
  },
  {
   "cell_type": "markdown",
   "metadata": {},
   "source": [
    "### <center> Comparative Analysis </center> "
   ]
  },
  {
   "cell_type": "code",
   "execution_count": null,
   "metadata": {},
   "outputs": [],
   "source": [
    "Tri_one_2019= df_dict['2019'].iloc[:,0:8]\n",
    "Tri_one_2019= Tri_one_2019.copy()\n",
    "Tri_one_2020= df_dict['2020'].iloc[:,0:8]\n",
    "Tri_one_2020=Tri_one_2020.copy()\n",
    "Tri_two_2019= pd.concat([df_dict['2019'].iloc[:,0:5], df_dict['2019'].iloc[:,8:11]], axis=1)\n",
    "Tri_two_2019=Tri_two_2019.copy()\n",
    "Tri_two_2020= pd.concat([df_dict['2020'].iloc[:,0:5], df_dict['2020'].iloc[:,8:11]], axis=1)\n",
    "Tri_two_2020=Tri_two_2020.copy()\n",
    "Tri_one_2019['total']= Tri_one_2019.iloc[:,5::].sum(axis=1)\n",
    "Tri_one_2020['total']= Tri_one_2020.iloc[:,5::].sum(axis=1)\n",
    "Tri_two_2019['total']= Tri_two_2019.iloc[:,5::].sum(axis=1)\n",
    "Tri_two_2020['total']= Tri_two_2020.iloc[:,5::].sum(axis=1)"
   ]
  }
 ],
 "metadata": {
  "kernelspec": {
   "display_name": "Python 3",
   "language": "python",
   "name": "python3"
  },
  "language_info": {
   "codemirror_mode": {
    "name": "ipython",
    "version": 3
   },
   "file_extension": ".py",
   "mimetype": "text/x-python",
   "name": "python",
   "nbconvert_exporter": "python",
   "pygments_lexer": "ipython3",
   "version": "3.8.3"
  }
 },
 "nbformat": 4,
 "nbformat_minor": 4
}
