{
 "metadata": {
  "language_info": {
   "codemirror_mode": {
    "name": "ipython",
    "version": 3
   },
   "file_extension": ".py",
   "mimetype": "text/x-python",
   "name": "python",
   "nbconvert_exporter": "python",
   "pygments_lexer": "ipython3",
   "version": "3.8.1-final"
  },
  "orig_nbformat": 2,
  "kernelspec": {
   "name": "python3",
   "display_name": "Python 3"
  }
 },
 "nbformat": 4,
 "nbformat_minor": 2,
 "cells": [
  {
   "cell_type": "code",
   "execution_count": 1,
   "metadata": {},
   "outputs": [],
   "source": [
    "import numpy as np\n",
    "import pandas as pd\n",
    "from glob import glob\n",
    "import matplotlib.pyplot as plt\n",
    "import pickle\n",
    "\n",
    "from utils import downloadData\n",
    "from utils import dataProc"
   ]
  },
  {
   "cell_type": "code",
   "execution_count": 2,
   "metadata": {},
   "outputs": [
    {
     "output_type": "stream",
     "name": "stdout",
     "text": [
      "list files\n",
      "['./data\\\\2013.xlsx', './data\\\\2014.xlsx', './data\\\\2015.xlsx', './data\\\\2017.xlsx', './data\\\\2018.xlsx', './data\\\\2019.xlsx', './data\\\\2020abr.xlsx', './data\\\\2020ago.xlsx', './data\\\\2020ene.xlsx', './data\\\\2020jul.xlsx', './data\\\\2020jun.xlsx', './data\\\\2020mar.xlsx', './data\\\\2020may.xlsx']\n",
      "years files\n",
      "[WindowsPath('2013.xlsx'), WindowsPath('2014.xlsx'), WindowsPath('2015.xlsx'), WindowsPath('2017.xlsx'), WindowsPath('2018.xlsx'), WindowsPath('2019.xlsx'), WindowsPath('2020ago.xlsx')]\n",
      "Loading data\n",
      "Loading data finished\n",
      "Cleanning data\n",
      "Cleaning data finsihed\n"
     ]
    }
   ],
   "source": [
    "read = 1\n",
    "if read:\n",
    "    data = dataProc.dataProc()\n",
    "    df = data.loadData()\n",
    "    df_dict = data.cleanData(df)\n",
    "    with open('df_dict.pickle', 'wb') as handle:\n",
    "        pickle.dump(df_dict, handle, protocol=pickle.HIGHEST_PROTOCOL)\n",
    "\n",
    "with open('df_dict.pickle', 'rb') as handle:\n",
    "    df_dict = pickle.load(handle)"
   ]
  },
  {
   "cell_type": "code",
   "execution_count": 44,
   "metadata": {},
   "outputs": [
    {
     "output_type": "stream",
     "name": "stdout",
     "text": [
      "0       febrero        marzo   abril         mayo   junio        julio  \\\n",
      "campo                                                                    \n",
      "abarco  5051.25  5700.419355  5654.4  5240.032258  5066.3  5580.645161   \n",
      "\n",
      "0            agosto   septiembre      octubre    noviembre    diciembre   año  \n",
      "campo                                                                          \n",
      "abarco  5647.935484  5562.066667  5959.612903  6533.966667  6279.419355  2013  \n",
      "0           febrero        marzo        abril         mayo        junio  \\\n",
      "campo                                                                     \n",
      "abarco  5847.214286  5845.967742  5952.033333  5618.967742  5356.266667   \n",
      "\n",
      "0             julio       agosto   septiembre      octubre   año  \n",
      "campo                                                             \n",
      "abarco  6123.903226  5764.193548  5711.666667  6558.064516  2014  \n",
      "0           febrero        marzo   abril         mayo   junio        julio  \\\n",
      "campo                                                                        \n",
      "abarco  6565.892857  6151.709677  5867.5  6687.806452  6126.4  7254.741935   \n",
      "\n",
      "0            agosto   septiembre      octubre    noviembre    diciembre   año  \n",
      "campo                                                                          \n",
      "abarco  6626.193548  6747.366667  6029.806452  6629.166667  5756.709677  2015  \n",
      "0           febrero        marzo   abril    mayo        junio        julio  \\\n",
      "campo                                                                        \n",
      "abarco  3913.964286  3398.741935  3338.9  3654.0  3773.142667  3808.665484   \n",
      "\n",
      "0            agosto   septiembre      octubre    noviembre  diciembre   año  \n",
      "campo                                                                        \n",
      "abarco  3596.020968  3203.679667  3440.726129  3236.128667    3305.66  2017  \n",
      "0           febrero        marzo        abril         mayo     junio  \\\n",
      "campo                                                                  \n",
      "abarco  3669.928214  3629.268387  4212.234667  3746.409677  3423.801   \n",
      "\n",
      "0             julio      agosto   septiembre      octubre  noviembre  \\\n",
      "campo                                                                  \n",
      "abarco  3671.625161  3932.48129  3586.841333  3616.065161   3458.095   \n",
      "\n",
      "0         diciembre   año  \n",
      "campo                      \n",
      "abarco  3522.172903  2018  \n",
      "0       febrero    marzo    abril     mayo    junio    julio   agosto  \\\n",
      "campo                                                                   \n",
      "abarco  3387.58  3140.82  3201.84  3177.54  3006.53  2912.12  3089.34   \n",
      "\n",
      "0       septiembre  octubre  noviembre  diciembre   año  \n",
      "campo                                                    \n",
      "abarco     3240.09  3285.18    3012.68     2858.6  2019  \n",
      "0       febrero    marzo    abril     mayo    junio    julio  agosto   año\n",
      "campo                                                                     \n",
      "abarco  2842.31  2823.12  2976.47  2774.35  2553.43  2658.67  2733.8  2020\n"
     ]
    },
    {
     "output_type": "execute_result",
     "data": {
      "text/plain": [
       "[]"
      ]
     },
     "metadata": {},
     "execution_count": 44
    }
   ],
   "source": [
    "#extract all information in a single df? At least production? \n",
    "df = []\n",
    "for i in df_dict.keys():\n",
    "    \n",
    "    df_dict[i]=df_dict[i].dropna(axis=1, thresh=5) #delete rows with just nan values\n",
    "    df_dict[i].columns = df_dict[i].columns.str.replace(' ', '') \n",
    "\n",
    "    df_temp = df_dict[i].groupby('campo').sum() # Grouping as needed\n",
    "    df_temp['año'] = i #adding año column\n",
    "    January =  df_dict[i].columns.get_loc('enero')# picking the group first month location\n",
    "    print(df_temp.iloc[1:2, January-1::]) # Assign clean table\n",
    "    #df = pd.concat([df, df_temp.iloc[:,January::]], axis='col') #Concatenate \n",
    "df"
   ]
  },
  {
   "cell_type": "code",
   "execution_count": 29,
   "metadata": {},
   "outputs": [
    {
     "output_type": "stream",
     "name": "stdout",
     "text": [
      "0 departamento                        cuenca                       operadora  \\\n1       tolima  VALLE SUPERIOR DEL MAGDALENA   kappa resources colombia ltd.   \n2       boyaca     VALLE MEDIO DEL MAGDALENA  mansarovar energy colombia ltd   \n3     casanare             LLANOS ORIENTALES        perenco colombia limited   \n4    santander     VALLE MEDIO DEL MAGDALENA   kappa resources colombia ltd.   \n5     putumayo                      PUTUMAYO                ecopetrol d. sur   \n\n0         contrato                        campo   enero  febrero     marzo  \\\n1          abanico                      abanico  1094.48  1114.89  1089.13   \n2  nare asociacion                       abarco  6637.61  5847.21  5845.97   \n3           estero                       abejas  109.774      246  239.516   \n4     las quinchas                  acacia este  4.16129  4.92857  4.54839   \n5            orito  acae-san miguel (pto colon)  2013.58  2351.32  2550.13   \n\n0    abril     mayo    junio    julio   agosto septiembre  octubre   año  \n1   1114.2     1073  1029.57  1015.42  1004.16    1013.87  958.484  2014  \n2  5952.03  5618.97  5356.27   6123.9  5764.19    5711.67  6558.06  2014  \n3    230.7  224.032  216.833  87.9032   197.71    233.167  245.097  2014  \n4  4.86667   6.3871      6.7  6.19355  6.64516    6.66667  5.58065  2014  \n5   3082.4  3102.13   2508.8  2115.45  2557.65    2420.27   2511.9  2014  \n"
     ]
    },
    {
     "output_type": "execute_result",
     "data": {
      "text/plain": [
       "1      1094.48\n",
       "2      6637.61\n",
       "3      109.774\n",
       "4      4.16129\n",
       "5      2013.58\n",
       "        ...   \n",
       "467    1447.19\n",
       "468        626\n",
       "469          0\n",
       "470    5.29032\n",
       "471    4682.35\n",
       "Name: enero , Length: 471, dtype: object"
      ]
     },
     "metadata": {},
     "execution_count": 29
    }
   ],
   "source": [
    "print(df_dict['2014'].head())\n",
    "df_dict['2014']['enero ']"
   ]
  },
  {
   "cell_type": "code",
   "execution_count": 6,
   "metadata": {},
   "outputs": [
    {
     "output_type": "execute_result",
     "data": {
      "text/plain": [
       "0                  enero  febrero    marzo    abril     mayo    junio  \\\n",
       "campo                                                                   \n",
       "abanico           507.72   482.58   486.56   472.80   436.48   461.20   \n",
       "abarco           2957.72  2842.31  2823.12  2976.47  2774.35  2553.43   \n",
       "abejas            685.68   715.63   721.75   704.43   698.29   670.02   \n",
       "acacia este         5.51     5.65     5.68     0.56     0.00     0.00   \n",
       "acae san miguel  1569.34  1550.65  1574.29  1408.10  1398.58  1449.72   \n",
       "...                  ...      ...      ...      ...      ...      ...   \n",
       "yatay              75.38     0.00     0.00     0.00     0.00     0.00   \n",
       "yenac               0.00     0.00     0.00     0.00     0.00     0.00   \n",
       "yurilla           157.28   177.98    29.82     0.00     0.00     0.00   \n",
       "zoe                 3.27     2.61     0.00     0.00     4.19     0.00   \n",
       "zopilote         1244.11  1260.11  1211.95   825.56   714.33   699.26   \n",
       "\n",
       "0                  julio   agosto   año  \n",
       "campo                                    \n",
       "abanico           497.81   478.22  2020  \n",
       "abarco           2658.67  2733.80  2020  \n",
       "abejas            638.50   646.99  2020  \n",
       "acacia este         0.00     0.00  2020  \n",
       "acae san miguel  1481.78  1538.16  2020  \n",
       "...                  ...      ...   ...  \n",
       "yatay               0.00     0.00  2020  \n",
       "yenac              76.93   188.52  2020  \n",
       "yurilla             0.00   147.01  2020  \n",
       "zoe                 2.77     0.00  2020  \n",
       "zopilote          694.37   611.23  2020  \n",
       "\n",
       "[385 rows x 9 columns]"
      ],
      "text/html": "<div>\n<style scoped>\n    .dataframe tbody tr th:only-of-type {\n        vertical-align: middle;\n    }\n\n    .dataframe tbody tr th {\n        vertical-align: top;\n    }\n\n    .dataframe thead th {\n        text-align: right;\n    }\n</style>\n<table border=\"1\" class=\"dataframe\">\n  <thead>\n    <tr style=\"text-align: right;\">\n      <th></th>\n      <th>enero</th>\n      <th>febrero</th>\n      <th>marzo</th>\n      <th>abril</th>\n      <th>mayo</th>\n      <th>junio</th>\n      <th>julio</th>\n      <th>agosto</th>\n      <th>año</th>\n    </tr>\n    <tr>\n      <th>campo</th>\n      <th></th>\n      <th></th>\n      <th></th>\n      <th></th>\n      <th></th>\n      <th></th>\n      <th></th>\n      <th></th>\n      <th></th>\n    </tr>\n  </thead>\n  <tbody>\n    <tr>\n      <th>abanico</th>\n      <td>507.72</td>\n      <td>482.58</td>\n      <td>486.56</td>\n      <td>472.80</td>\n      <td>436.48</td>\n      <td>461.20</td>\n      <td>497.81</td>\n      <td>478.22</td>\n      <td>2020</td>\n    </tr>\n    <tr>\n      <th>abarco</th>\n      <td>2957.72</td>\n      <td>2842.31</td>\n      <td>2823.12</td>\n      <td>2976.47</td>\n      <td>2774.35</td>\n      <td>2553.43</td>\n      <td>2658.67</td>\n      <td>2733.80</td>\n      <td>2020</td>\n    </tr>\n    <tr>\n      <th>abejas</th>\n      <td>685.68</td>\n      <td>715.63</td>\n      <td>721.75</td>\n      <td>704.43</td>\n      <td>698.29</td>\n      <td>670.02</td>\n      <td>638.50</td>\n      <td>646.99</td>\n      <td>2020</td>\n    </tr>\n    <tr>\n      <th>acacia este</th>\n      <td>5.51</td>\n      <td>5.65</td>\n      <td>5.68</td>\n      <td>0.56</td>\n      <td>0.00</td>\n      <td>0.00</td>\n      <td>0.00</td>\n      <td>0.00</td>\n      <td>2020</td>\n    </tr>\n    <tr>\n      <th>acae san miguel</th>\n      <td>1569.34</td>\n      <td>1550.65</td>\n      <td>1574.29</td>\n      <td>1408.10</td>\n      <td>1398.58</td>\n      <td>1449.72</td>\n      <td>1481.78</td>\n      <td>1538.16</td>\n      <td>2020</td>\n    </tr>\n    <tr>\n      <th>...</th>\n      <td>...</td>\n      <td>...</td>\n      <td>...</td>\n      <td>...</td>\n      <td>...</td>\n      <td>...</td>\n      <td>...</td>\n      <td>...</td>\n      <td>...</td>\n    </tr>\n    <tr>\n      <th>yatay</th>\n      <td>75.38</td>\n      <td>0.00</td>\n      <td>0.00</td>\n      <td>0.00</td>\n      <td>0.00</td>\n      <td>0.00</td>\n      <td>0.00</td>\n      <td>0.00</td>\n      <td>2020</td>\n    </tr>\n    <tr>\n      <th>yenac</th>\n      <td>0.00</td>\n      <td>0.00</td>\n      <td>0.00</td>\n      <td>0.00</td>\n      <td>0.00</td>\n      <td>0.00</td>\n      <td>76.93</td>\n      <td>188.52</td>\n      <td>2020</td>\n    </tr>\n    <tr>\n      <th>yurilla</th>\n      <td>157.28</td>\n      <td>177.98</td>\n      <td>29.82</td>\n      <td>0.00</td>\n      <td>0.00</td>\n      <td>0.00</td>\n      <td>0.00</td>\n      <td>147.01</td>\n      <td>2020</td>\n    </tr>\n    <tr>\n      <th>zoe</th>\n      <td>3.27</td>\n      <td>2.61</td>\n      <td>0.00</td>\n      <td>0.00</td>\n      <td>4.19</td>\n      <td>0.00</td>\n      <td>2.77</td>\n      <td>0.00</td>\n      <td>2020</td>\n    </tr>\n    <tr>\n      <th>zopilote</th>\n      <td>1244.11</td>\n      <td>1260.11</td>\n      <td>1211.95</td>\n      <td>825.56</td>\n      <td>714.33</td>\n      <td>699.26</td>\n      <td>694.37</td>\n      <td>611.23</td>\n      <td>2020</td>\n    </tr>\n  </tbody>\n</table>\n<p>385 rows × 9 columns</p>\n</div>"
     },
     "metadata": {},
     "execution_count": 6
    }
   ],
   "source": [
    "año = '2020'\n",
    "A2020 = df_dict[año].groupby('campo').sum()\n",
    "January= A2020.columns.get_loc(\"enero\")\n",
    "A2020.iloc[:,January::]"
   ]
  },
  {
   "cell_type": "code",
   "execution_count": null,
   "metadata": {},
   "outputs": [],
   "source": []
  }
 ]
}